{
 "cells": [
  {
   "cell_type": "markdown",
   "id": "7032e9b7",
   "metadata": {},
   "source": [
    "# TUGAS IV\n",
    "Pertemuan ke-4 tanggal : 27 Maret 2023"
   ]
  },
  {
   "cell_type": "markdown",
   "id": "520f97c6",
   "metadata": {},
   "source": [
    "Pada tugas kali ini ada 5 pokok materi yang akan saya coba. Materi dari 5.11 yaitu While Loop hingga materi ke 5.15 yaitu Fungsi Range. "
   ]
  },
  {
   "cell_type": "markdown",
   "id": "a6d8981c",
   "metadata": {},
   "source": [
    "## 5.11 WHILE LOOP\n",
    "kode while loop akan mengoprasikan data yang diinput dengan mengecek aoakah data tersebut sesuai dengan syarat yang dimasukkan, jika ternyata data yang dimasukkan sesuai dengan syarat (True) maka hasilnya akan dilanjutkan untuk disesuikan lagi dengan syarat. Namun jika pada penyesuaian tersebut tidak sesuai dengan syarat (False) maka loop akan berhenti."
   ]
  },
  {
   "cell_type": "code",
   "execution_count": 2,
   "id": "0ad8c320",
   "metadata": {
    "scrolled": false
   },
   "outputs": [
    {
     "name": "stdout",
     "output_type": "stream",
     "text": [
      "1\n",
      "2\n",
      "3\n",
      "4\n",
      "5\n",
      "6\n",
      "7\n",
      "8\n",
      "9\n",
      "10\n",
      "11\n",
      "12\n",
      "13\n",
      "14\n",
      "15\n"
     ]
    }
   ],
   "source": [
    "#LATIHAN 1\n",
    "\n",
    "#pada setiap kode yang dijalankan akan ada pendeklarasian data yang akan diproses oleh kode\n",
    "#dimana data akan diinisilisasikan dengan variabel\n",
    "i = 1\n",
    "n = 15\n",
    "\n",
    "#setelah dideklarasikan data yang akan diproses akan dimasukkan kode while\n",
    "#dimana kode while ini akan mendeklarasikan syarat yang akan disesuaikanoleh data\n",
    "\n",
    "while i <= n :\n",
    "    \n",
    "#data yang akan diproses disini dimulai dari data i sampai data ke-n\n",
    "#namun jika setelah diproses data yang diminta dan menghasilkan data yang lebih dari n\n",
    "#maka hasil tersebut tidak sesuai dengan syarat maka tidak akan dilanjutkan\n",
    "    print (i)\n",
    "    i = i + 1"
   ]
  },
  {
   "cell_type": "code",
   "execution_count": 3,
   "id": "1feb3f42",
   "metadata": {
    "scrolled": true
   },
   "outputs": [
    {
     "name": "stdout",
     "output_type": "stream",
     "text": [
      "masukkan angka : 3\n",
      "masukkan angka : 5\n",
      "masukkan angka : 6\n",
      "masukkan angka : 1\n",
      "masukkan angka : 9\n",
      "masukkan angka : 0\n",
      "total =  24\n"
     ]
    }
   ],
   "source": [
    "#LATIHAN 2\n",
    "\n",
    "total = 0 #total yang akan menjadi data awal\n",
    "\n",
    "#kode input untuk memasukkan data yang akan diproses oelh kode ini\n",
    "angka = int(input(\"masukkan angka : \"))\n",
    "\n",
    "#data yang akan dimasukkan oleh pengguna akan sampai pada data dengan nilai 0 dimana data tersebut yang akan menjadi batas akhir\n",
    "while angka != 0 :\n",
    "    total += angka #total = total + angka yang dimasukkan\n",
    "    \n",
    "    #akan ada kode input lagi untuk memasukkan data berikutnya yang akan diproses\n",
    "    angka = int(input(\"masukkan angka : \"))\n",
    "    \n",
    "#totoal akan dicetak jika pengguna telah memasukkan data dengan nilai 0\n",
    "#dimana data tersebut akan menjadi penanda total akan dicetak dan tidak adanya data yang input lagi\n",
    "#karena data dengan nilao 0 tidak akan memenuhi syarat (false)\n",
    "print (\"total = \", total)"
   ]
  },
  {
   "cell_type": "markdown",
   "id": "573fedd1",
   "metadata": {},
   "source": [
    "### Kode While dengan Else\n",
    "pada kode while ada 2 situasi pada kode ini yaitu ketika data sesuai dengan syarat (True) maka akan dilanjutkan, dan ada juga situasi dimana data tidak sesuai dengan syarat (False) maka pada kode while dengan else ini dimana situasi False ini yang akan dicetak adalah perintah print pada else"
   ]
  },
  {
   "cell_type": "code",
   "execution_count": 11,
   "id": "39e7fbf2",
   "metadata": {},
   "outputs": [
    {
     "name": "stdout",
     "output_type": "stream",
     "text": [
      "Universitas Udayana\n"
     ]
    }
   ],
   "source": [
    "#LATIHAN 3\n",
    "\n",
    "#data yang akan diproses dan disesuaikan dengan syarat\n",
    "x = 0 #untuk x memenuhi syarat yaitu kurang dari 3\n",
    "\n",
    "#pada kode while dibawah akan dijabarkan syarat yang akan disesuaikan dengan data\n",
    "while x < 3: \n",
    "    if x ==1 :\n",
    "        break\n",
    "    print (\"Universitas Udayana\")\n",
    "    x = x +1\n",
    "    \n",
    "# terdapat 2 syarat yang yang akan disesuaikan, yang pertama jika x < 3 maka akan yang dicetak adalah \"Universitas Udayana\"\n",
    "# dan syarat yang kedua jika x == 1 maka yang akan dicetak adalah break\n",
    "\n",
    "else:\n",
    "    print('Jurusan Matematika')\n",
    "#namun jika tidak sesuai maka yang akan dicetak adalah pada kode else diatas"
   ]
  },
  {
   "cell_type": "code",
   "execution_count": 12,
   "id": "62fa6add",
   "metadata": {},
   "outputs": [
    {
     "name": "stdout",
     "output_type": "stream",
     "text": [
      "Jurusan Matematika\n"
     ]
    }
   ],
   "source": [
    "x = 5 #untuk x tidak memenuhi syarat yaitu lebih dari 3\n",
    "\n",
    "while x < 3: \n",
    "    if x ==1 :\n",
    "        break\n",
    "    print (\"Universitas Udayana\")\n",
    "    x = x +1\n",
    "    \n",
    "else:\n",
    "    print('Jurusan Matematika')\n",
    "    \n",
    "#dikarenakan x lebih besar dari pada 3 maka syarat 1 tidak terpenuhi, karena tida terpenuhi \n",
    "#maka yang akan dicetak adalah pernyataan yang ada pada kode else"
   ]
  },
  {
   "cell_type": "code",
   "execution_count": 14,
   "id": "7f1a7f45",
   "metadata": {},
   "outputs": [],
   "source": [
    "x = 1 #untuk x memenuhi syarat yaitu x == 1\n",
    "\n",
    "while x < 3: \n",
    "    if x ==1 :\n",
    "        break #break disini berarti jika x==1 maka tidak ada yang akan dicetak\n",
    "    print (\"Universitas Udayana\")\n",
    "    x = x +1\n",
    "    \n",
    "else:\n",
    "    print('Jurusan Matematika')\n",
    "\n",
    "#karena x sama dengan 1 maka sesuai dengan syarat maka tidak ada output yang akan dicetak"
   ]
  },
  {
   "cell_type": "markdown",
   "id": "ebf67adc",
   "metadata": {},
   "source": [
    "## 5.12 LIST DI PYTHON\n",
    "Pada python kode list digunakan untuk menyimpan beberapa data disaat yang bersamaan. Kode list pada python juga sama dengan kode array pada C++. Dengan kata lain kode list merupakan kumpulan beberapa data dimana data tersebut dijabarkan didalam sebuat tanda [ ] dan dipisahkan oleh tanda koma (,)\n",
    "\n",
    "Type data yang dapat digunakan pada list bukan hanya type string namun juga dapat menggunakan type data integer. Data yang dimasukkan tidak hanya dalam bentuk homogen atau satu tipe namun juga bisa dalam bentuk heterogen atau campuran"
   ]
  },
  {
   "cell_type": "markdown",
   "id": "b40a2188",
   "metadata": {},
   "source": [
    "### Membuat Kode List pada Python\n",
    "Pembuatan kode list dapat dibuat dengan menempatkan data dalam urutan pada sebuah tanda kurung siku [].Berbeda dengan yang lainnya, List tidak memerlukan fungsi bawaan untuk membuat daftar data. Pada List juga dapat memuat anggota yang dapat berubah. "
   ]
  },
  {
   "cell_type": "code",
   "execution_count": 27,
   "id": "63d9e2d6",
   "metadata": {},
   "outputs": [
    {
     "name": "stdout",
     "output_type": "stream",
     "text": [
      "Blank List: \n",
      "[]\n",
      "Berikut merupakan list yang anggotanya berupa angka: \n",
      "[12, 24, 89]\n",
      "List dimana datanya berupa String : \n",
      "['Udayana', 'FMIPA', 'Matematika']\n"
     ]
    }
   ],
   "source": [
    "#LATIHAN 1 \n",
    "\n",
    "# LIST TANPA ANGGOTA\n",
    "\n",
    "kosong = []\n",
    "print(\"Blank List: \")\n",
    "print(kosong)\n",
    "#Dapat kita lihat bahwa kode list yang tida memiliki anggota juga tetap dapat diproses oleh sistem.\n",
    "\n",
    "#LIST YANG ANGGOTANYA BERUPA INTEGER\n",
    "\n",
    "angka = [12,24,89] #penjabaran anggota list\n",
    "print ('Berikut merupakan list yang anggotanya berupa angka: ')\n",
    "print(angka)\n",
    "\n",
    "#LIST YANG ANGGOTANYA BERUPA STRING\n",
    "\n",
    "string = [\"Udayana\", \"FMIPA\", \"Matematika\"]\n",
    "#pada penjabaran anggota list dimana anggotanya berupa data bertype list \n",
    "#akan digunakan tanda (\"\") pada setiap data yang ada agar sistem dapat membaca\n",
    "#bahwa data tersebut berupa string\n",
    "\n",
    "print(\"List dimana datanya berupa String : \")\n",
    "print (string)\n",
    "\n",
    "#jika perintah yang diminta hanya print(list) maka sistem akan mencetak list yang ada secara berurutan sesuai yang dimasukkan pengguna\n",
    "#pada ketida contoh diatas kata \"kosong\", \"angka\" dan \"string\" merupakan nama dari list."
   ]
  },
  {
   "cell_type": "code",
   "execution_count": 18,
   "id": "a1f17fdf",
   "metadata": {},
   "outputs": [
    {
     "name": "stdout",
     "output_type": "stream",
     "text": [
      "List dimana ada anggota yang berulang : \n",
      "[1, 2, 3, 65, 8, 2, 5, 3]\n",
      "kode list yang terdapat 2 type data : \n",
      "['Udayana', 65, 30, 32, 'Matematika', 'FMIPA']\n"
     ]
    }
   ],
   "source": [
    "#lATHAN 2\n",
    "\n",
    "#List dimana ada anggota yang berulang\n",
    "\n",
    "list_berulang = [1,2,3,65,8,2,5,3]\n",
    "print('List dimana ada anggota yang berulang : ')\n",
    "print(list_berulang)\n",
    "#Ketika ada anggota pada list yang sama sistem tetap akan membaca bahwa kedua data tersebut adalah data yang berbeda \n",
    "#dan tetap mencetaknya sesuai yang diinput.\n",
    "\n",
    "\n",
    "#List dimana terdapat 2 type data didalamnya\n",
    "\n",
    "list_campuran = [\"Udayana\", 65, 30,32, \"Matematika\", \"FMIPA\"]\n",
    "print('kode list yang terdapat 2 type data : ')\n",
    "print (list_campuran)\n",
    "#sama seperti contoh diatas adanya perbedaan type data pada list tidak akan menghentikan data tersebut di proses."
   ]
  },
  {
   "cell_type": "markdown",
   "id": "9a6ad74c",
   "metadata": {},
   "source": [
    "### Pemanggilan Anggota Pada Kode List\n",
    "Pemanggilan anggota pada kode list dapat dipanggil sesuai nomor urutan anggota pada list. Tidak hanya dari depan namun jika pada kode list diinputkan data yang berjumlah banyak dan ingin memangggil data yang terletak diakhir namun enggan menghitung nomor urutannya dapat menggunakan kode (-1) jika yang dipanggi data urutan terakhir begitu seterusnya."
   ]
  },
  {
   "cell_type": "code",
   "execution_count": 63,
   "id": "6756e652",
   "metadata": {
    "scrolled": false
   },
   "outputs": [
    {
     "name": "stdout",
     "output_type": "stream",
     "text": [
      "kode list yang terdapat 2 type data : \n",
      "['Udayana', 65, 30, 32, 'Matematika', 'FMIPA']\n",
      " \n",
      "anggota dari list yang dipanggil: \n",
      "Matematika\n",
      "30\n",
      " \n",
      "anggota dari list yang ingin dipanggil: \n",
      "[30, 32]\n",
      "[65, 30, 32, 'Matematika']\n",
      " \n",
      "anggota yang di panggil : \n",
      "FMIPA\n",
      "32\n"
     ]
    }
   ],
   "source": [
    "#LATIHAN 3\n",
    "\n",
    "list_campuran = [\"Udayana\", 65, 30,32, \"Matematika\", \"FMIPA\"]\n",
    "print('kode list yang terdapat 2 type data : ')\n",
    "print (list_campuran)\n",
    "\n",
    "#Pemanggilan Anggota\n",
    "print(\" \")#pencetakan spasi\n",
    "print('anggota dari list yang dipanggil: ')\n",
    "print(list_campuran[4]) #formatnya : print(nama list[nomor urut])\n",
    "print(list_campuran[2])\n",
    "\n",
    "#pemanggilan anggota sesuai urutan yang diinginkan \n",
    "print(\" \")#pencetakan spasi\n",
    "print('anggota dari list yang ingin dipanggil: ')\n",
    "print(list_campuran[2:4]) #formatnya : print(nama list[nomor urut awal: nomor urut akhir])\n",
    "print(list_campuran[1:-1])\n",
    "\n",
    "\n",
    "#pemanggilan anggota menggunakan kode min(-)\n",
    "print(\" \")#pencetakan spasi\n",
    "print('anggota yang di panggil : ')\n",
    "print(list_campuran[-1])\n",
    "print(list_campuran[-3])"
   ]
  },
  {
   "cell_type": "markdown",
   "id": "0d2524cb",
   "metadata": {},
   "source": [
    "### Penghitungan Jumlah Anggota pada Kode List\n",
    "Pada Kode List terdapat lebih dari satu anggota yang ada didalmnya. Dalam Kode list kita dapang menggitung jumlah anggota dengan perintah len."
   ]
  },
  {
   "cell_type": "code",
   "execution_count": 34,
   "id": "afd138f7",
   "metadata": {},
   "outputs": [
    {
     "name": "stdout",
     "output_type": "stream",
     "text": [
      "[]\n",
      "Jumlah anggota list \"kosong\" : \n",
      "0\n",
      "[12, 24, 89]\n",
      "Jumlah anggota list angka : \n",
      "3\n",
      "['Udayana', 65, 30, 32, 'Matematika', 'FMIPA']\n",
      "Jumlah anggota list campuran : \n",
      "6\n"
     ]
    }
   ],
   "source": [
    "#LATIHAN 4\n",
    "\n",
    "kosong =[]\n",
    "print (kosong)\n",
    "print('Jumlah anggota list \"kosong\" : ')\n",
    "print(len(kosong))\n",
    "#diatas contoh jika terdapat list yang tidak memiliki anggota maka sistem akan mengeluarkan ouput berupak 0\n",
    "\n",
    "angka = [12,24,89] #penjabaran anggota list\n",
    "print(angka)\n",
    "print('Jumlah anggota list angka : ')\n",
    "print(len(angka))\n",
    "#diatas untuk list yang bertipe data homogen\n",
    "\n",
    "list_campuran = [\"Udayana\", 65, 30,32, \"Matematika\", \"FMIPA\"]\n",
    "print (list_campuran)\n",
    "print(\"Jumlah anggota list campuran : \")\n",
    "print(len(list_campuran))\n",
    "#diatas adalah contoh jika sistem dihadapkan dengan list yang memiliki type heterogen"
   ]
  },
  {
   "cell_type": "markdown",
   "id": "9293096e",
   "metadata": {},
   "source": [
    "## 5.13 METODA LIST\n",
    "Pada kali ini ada berberapa kode yang dapat digunakan pada kode list. "
   ]
  },
  {
   "cell_type": "markdown",
   "id": "415f8603",
   "metadata": {},
   "source": [
    "### Split \n",
    "Kode split ini berfungsi ketida data yang dimasukkan berupa kalimat maka kode split inilah yang akan mengubah kalimat tersebut menjadi list data bertipe string."
   ]
  },
  {
   "cell_type": "code",
   "execution_count": 69,
   "id": "9de8d9f5",
   "metadata": {},
   "outputs": [
    {
     "name": "stdout",
     "output_type": "stream",
     "text": [
      "masukan kalimat yang ingin dijadikan list : Universitas Udayana Fakultas MIPA Prodi Matematika\n",
      "lalu akan menjadi list:  ['Universitas', 'Udayana', 'Fakultas', 'MIPA', 'Prodi', 'Matematika']\n"
     ]
    }
   ],
   "source": [
    "# LATIHAN 1\n",
    "\n",
    "#pada kali ini akan saya coba dengan menginput sebuah kalimat dan akan saya ubah menjadi sebuah list\n",
    "\n",
    "#pertama saya akan gunakan kode input untuk menginput kalimatnya\n",
    "base_data = input (\"masukan kalimat yang ingin dijadikan list : \")\n",
    "\n",
    "#lalu saya menggunakan kode split dimana kode ini akan mengandaikan spasi yang ada diantara 2 buah kata menjadi penanda antar data\n",
    "data_akhir = base_data.split()\n",
    "\n",
    "#setelah itu dapat kita cetak data yang telah di pisahkan\n",
    "print(\"lalu akan menjadi list: \", data_akhir)"
   ]
  },
  {
   "cell_type": "markdown",
   "id": "28cc62d7",
   "metadata": {},
   "source": [
    "### Append\n",
    "Kode ini adalah kode untuk menambahkan data pada dibagian akhir."
   ]
  },
  {
   "cell_type": "code",
   "execution_count": 75,
   "id": "dde1484f",
   "metadata": {
    "scrolled": false
   },
   "outputs": [
    {
     "name": "stdout",
     "output_type": "stream",
     "text": [
      "list sebelum penambahan data : \n",
      "['Udayana', 65, 30, 32, 'Matematika', 'FMIPA']\n",
      " \n",
      "List setelah penambahan data: \n",
      "['Udayana', 65, 30, 32, 'Matematika', 'FMIPA', 'Jimbaran']\n"
     ]
    }
   ],
   "source": [
    "#LATIHAN 2\n",
    "\n",
    "list_campuran = [\"Udayana\", 65, 30,32, \"Matematika\", \"FMIPA\"] \n",
    "# Pendeklarasian list yang akan diubah \n",
    "\n",
    "print('list sebelum penambahan data : ')\n",
    "print(list_campuran) #pencetakan list yang belum diubah\n",
    "\n",
    "print(\" \") #pencetakan spasi\n",
    "\n",
    "list_campuran.append(\"Jimbaran\") #format : nama list.append(data yang akan ditambahkan)\n",
    "#pada kode ini akan ditambahkan data \"jimbaran\" pada akhir data\n",
    "\n",
    "print(\"List setelah penambahan data: \")\n",
    "print(list_campuran) \n",
    "#pencetakan list setelah diubah"
   ]
  },
  {
   "cell_type": "markdown",
   "id": "d0d45020",
   "metadata": {},
   "source": [
    "### Insert\n",
    "Kode insert ini berguna untuk menambahkan data, namun berbeda dengan kode append. Kode insert ini berguna menambahkan data pada tempat yang diinginkan"
   ]
  },
  {
   "cell_type": "code",
   "execution_count": 77,
   "id": "0276706f",
   "metadata": {},
   "outputs": [
    {
     "name": "stdout",
     "output_type": "stream",
     "text": [
      "list sebelum penambahan data : \n",
      "['Udayana', 65, 30, 32, 'Matematika', 'FMIPA']\n",
      " \n",
      "List setelah penambahan data: \n",
      "['Udayana', 65, 30, 32, 'Matematika', 'Jimbaran', 'FMIPA']\n"
     ]
    }
   ],
   "source": [
    "#LATIHAN 3\n",
    "\n",
    "list_campuran = [\"Udayana\", 65, 30,32, \"Matematika\", \"FMIPA\"] \n",
    "# Pendeklarasian list yang akan diubah \n",
    "\n",
    "print('list sebelum penambahan data : ')\n",
    "print(list_campuran) #pencetakan list yang belum diubah\n",
    "\n",
    "print(\" \") #pencetakan spasi\n",
    "\n",
    "list_campuran.insert(5,\"Jimbaran\") #format : nama list.insert(urutan ke, data yang akan ditambahkan)\n",
    "#pada kode ini akan ditambahkan data \"jimbaran\" dan data tersebut akan menjadi data urutan ke-5\n",
    "\n",
    "print(\"List setelah penambahan data: \")\n",
    "print(list_campuran) \n",
    "#pencetakan list setelah diubah"
   ]
  },
  {
   "cell_type": "markdown",
   "id": "a7b8cbd9",
   "metadata": {},
   "source": [
    "### Extend\n",
    "Kode extend ini dapat berfungsi untuk menyatukan 2 list menjadi satu."
   ]
  },
  {
   "cell_type": "code",
   "execution_count": 82,
   "id": "3a4a1aa3",
   "metadata": {
    "scrolled": true
   },
   "outputs": [
    {
     "name": "stdout",
     "output_type": "stream",
     "text": [
      "list 1: \n",
      "['Universitas', 'Udayana', 'Fakultas', 'MIPA', 'Prodi', 'Matematika']\n",
      "\n",
      "list 2: \n",
      "[2, 5, 6, 1, 9, 3, 8]\n",
      "\n",
      "list yang telah digabung : \n",
      "['Universitas', 'Udayana', 'Fakultas', 'MIPA', 'Prodi', 'Matematika', 2, 5, 6, 1, 9, 3, 8]\n"
     ]
    }
   ],
   "source": [
    "#LATIHAN 4\n",
    "\n",
    "#pertama deklarasikan data pada list pertama\n",
    "string = ['Universitas', 'Udayana', 'Fakultas', 'MIPA', 'Prodi', 'Matematika']\n",
    "print('list 1: ')\n",
    "print(string)\n",
    "\n",
    "print(\"\") #print spasi\n",
    "\n",
    "#lalu deklarasikan data pada list kedua\n",
    "integer = [2,5,6,1,9,3,8]\n",
    "print('list 2: ')\n",
    "print(integer)\n",
    "\n",
    "print(\"\")#print spasi\n",
    "\n",
    "#lalu akan masuk pada kode extend\n",
    "string.extend(integer) # format : list pertama.extend(list kedua)\n",
    "\n",
    "print('list yang telah digabung : ')\n",
    "print(string)\n",
    "#lalu dapat di cetak hasil penggabungan\n",
    "#kenapa yang dicetak adalah list yang bernama string karena secara logika list inilah yang ditambahkan dengan list kedua\n",
    "#oleh sebab itu sistem mengingat bahwa adanya perubahan pada list pertama."
   ]
  },
  {
   "cell_type": "markdown",
   "id": "a8c9b4c1",
   "metadata": {},
   "source": [
    "### Penukaran Anggota pada List Data\n",
    "List merupakan kumpulan data yang dapat diubah dimana jika data yang ingin diubah harus diganti dengan data yang baru."
   ]
  },
  {
   "cell_type": "code",
   "execution_count": 87,
   "id": "f757cabc",
   "metadata": {},
   "outputs": [
    {
     "name": "stdout",
     "output_type": "stream",
     "text": [
      "list sebelum penukaran data : \n",
      "['Udayana', 65, 30, 32, 'Matematika', 'FMIPA']\n",
      "\n",
      "list data setelah ditukarkan: \n",
      "['Udayana', 65, 'Jimbaran', 32, 'Matematika', 'FMIPA']\n"
     ]
    }
   ],
   "source": [
    "#LATIHAN 5 \n",
    "\n",
    "list_campuran = [\"Udayana\", 65, 30,32, \"Matematika\", \"FMIPA\"] \n",
    "# Pendeklarasian list yang akan diubah \n",
    "\n",
    "print('list sebelum penukaran data : ')\n",
    "print(list_campuran) #pencetakan list yang belum ditukar\n",
    "\n",
    "print(\"\") #pencetakan spasi\n",
    "\n",
    "#setelah dideklarasikan list data yang akan dirubah selanjutnya dapat diperintahkan sistem untuk mengganti salah satu anggota\n",
    "list_campuran[2] = \"Jimbaran\" #format : nama list[urutan data yang akan ditukar] = \"data pengganti\"\n",
    "print('list data setelah ditukarkan: ')\n",
    "print(list_campuran)\n",
    "\n",
    "#maka outputnya adalah list data yang datanya ditelah ditukarkan."
   ]
  },
  {
   "cell_type": "markdown",
   "id": "07ce418d",
   "metadata": {},
   "source": [
    "### Penghapusan Data pada List\n",
    "Penghapusan data pada list dapat dilakukan dengan 2 kode. Yaitu kode del dan kode remove."
   ]
  },
  {
   "cell_type": "code",
   "execution_count": 94,
   "id": "e55a0556",
   "metadata": {
    "scrolled": true
   },
   "outputs": [
    {
     "name": "stdout",
     "output_type": "stream",
     "text": [
      "list data sebelum salah satunya dihapus: \n",
      "['Universitas', 'Udayana', 'Fakultas', 'Jimbaran', 'MIPA', 'Prodi', 'Matematika']\n",
      "\n",
      "list data setelah salah satunya dihapus: \n",
      "['Universitas', 'Udayana', 'Fakultas', 'MIPA', 'Prodi', 'Matematika']\n"
     ]
    }
   ],
   "source": [
    "#LATIHAN 6 (del)\n",
    "\n",
    "#pendeklarasian list data bertipe string dimana salah satu data tersebut yang aka dihapus.\n",
    "string = ['Universitas', 'Udayana', 'Fakultas', 'Jimbaran', 'MIPA', 'Prodi', 'Matematika']\n",
    "print('list data sebelum salah satunya dihapus: ')\n",
    "print(string)\n",
    "\n",
    "print(\"\")\n",
    "\n",
    "#penghapusan data ke-3 dengan kode del\n",
    "del string[3] #format : del nama list[data ke-]\n",
    "print('list data setelah salah satunya dihapus: ')\n",
    "print(string)\n",
    "\n",
    "#perintah ini hanya akan menghapus data dengan urutan yang diminta"
   ]
  },
  {
   "cell_type": "code",
   "execution_count": 95,
   "id": "f046bba2",
   "metadata": {
    "scrolled": false
   },
   "outputs": [
    {
     "name": "stdout",
     "output_type": "stream",
     "text": [
      "list data sebelum salah satunya dihapus: \n",
      "['Universitas', 'Udayana', 'Fakultas', 'Jimbaran', 'MIPA', 'Prodi', 'Matematika']\n",
      "\n",
      "list data setelah salah satunya dihapus: \n",
      "['Universitas', 'Udayana', 'Fakultas', 'MIPA', 'Prodi', 'Matematika']\n"
     ]
    }
   ],
   "source": [
    "#LATIHAN 7 (remove)\n",
    "\n",
    "#pendeklarasian list data bertipe string dimana salah satu data tersebut yang aka dihapus.\n",
    "string = ['Universitas', 'Udayana', 'Fakultas', 'Jimbaran', 'MIPA', 'Prodi', 'Matematika']\n",
    "print('list data sebelum salah satunya dihapus: ')\n",
    "print(string)\n",
    "\n",
    "print(\"\")\n",
    "\n",
    "#penghapusan data ke-3 dengan kode remove\n",
    "string.remove(\"Jimbaran\") #format : nama list.remove (data)\n",
    "print('list data setelah salah satunya dihapus: ')\n",
    "print(string)\n",
    "\n",
    "#perintah ini hanya akan menghapus data yang diminta"
   ]
  },
  {
   "cell_type": "markdown",
   "id": "f6d371ad",
   "metadata": {},
   "source": [
    "### Penghitungan Jumlah Data pada List\n",
    "Untuk menghitung jumlah data pada sebuah list kode yang digunakan adalah kode len."
   ]
  },
  {
   "cell_type": "code",
   "execution_count": 99,
   "id": "8da1db95",
   "metadata": {},
   "outputs": [
    {
     "name": "stdout",
     "output_type": "stream",
     "text": [
      "list data yang akan dihitung: \n",
      "['Universitas', 'Udayana', 'Fakultas', 'Jimbaran', 'MIPA', 'Prodi', 'Matematika']\n",
      "Total data:  7\n"
     ]
    }
   ],
   "source": [
    "#LATIHAN 7\n",
    "\n",
    "#pendeklarasian list yang akan dihitung jumlahnya.\n",
    "string = ['Universitas', 'Udayana', 'Fakultas', 'Jimbaran', 'MIPA', 'Prodi', 'Matematika']\n",
    "\n",
    "print('list data yang akan dihitung: ')\n",
    "print(string)\n",
    "\n",
    "#lalu setelah kita tau list data yang akan dihitung, kita akan menlanjutkan dengan menghitungnya dengan kode len.\n",
    "\n",
    "print('Total data: ',len(string))\n",
    "#format yang digunakan ialah : print(\"kata kata jika ingin\", len(nama list))\n",
    "\n",
    "#output yang akan dikeluarkan adalah berupa angka yang menyatakan jumlah."
   ]
  },
  {
   "cell_type": "markdown",
   "id": "246c35eb",
   "metadata": {},
   "source": [
    "### Pengecekan Data pada List\n",
    "Jika data pada list banyak maka untuk dapat mengeceknya dilaukan pemanggilan data."
   ]
  },
  {
   "cell_type": "code",
   "execution_count": 103,
   "id": "9f73d213",
   "metadata": {},
   "outputs": [
    {
     "name": "stdout",
     "output_type": "stream",
     "text": [
      "True\n"
     ]
    }
   ],
   "source": [
    "#LATIHAN 8\n",
    "\n",
    "#pendeklarasian list yang akan dicek.\n",
    "string = ['Universitas', 'Udayana', 'Fakultas', 'Jimbaran', 'MIPA', 'Prodi', 'Matematika']\n",
    "\n",
    "#setelah dideklarasikan dapat dipanggil data apa yang  mau di cek.\n",
    "print (\"Matematika\" in string)\n",
    "\n",
    "#kode dibuat dengan format : print(data in nama list)\n",
    "#output yang akan dihasilkan berupa \"True\" atau \"False\".\n",
    "#Jika data yang di cek ada pada list maka akan menghasilkan \"True\", Namun jika tidak ada maka akan dikeluarkan \"False\""
   ]
  },
  {
   "cell_type": "markdown",
   "id": "91442c72",
   "metadata": {},
   "source": [
    "### Penghapusan Semua Data pada List\n",
    "Untuk menghapus semua data yang ada pada list dapat menggunakan kode clear pada sebuah list."
   ]
  },
  {
   "cell_type": "code",
   "execution_count": 107,
   "id": "3f0d032c",
   "metadata": {},
   "outputs": [
    {
     "name": "stdout",
     "output_type": "stream",
     "text": [
      "data-data pada list sebelum dihapus : \n",
      "[1, 2, 3, 65, 8, 2, 5, 3]\n",
      "\n",
      "list setelah semua data dihapus: \n",
      "[]\n"
     ]
    }
   ],
   "source": [
    "#LATIHAN 9 \n",
    "\n",
    "#Pertama akan dilakukan pendeklarasian data pada list yang akan dihapus\n",
    "list_berulang = [1,2,3,65,8,2,5,3]\n",
    "\n",
    "print(\"data-data pada list sebelum dihapus : \")\n",
    "print(list_berulang) #print list sebelum dihapus\n",
    "\n",
    "print(\"\")\n",
    "\n",
    "#setelah itu dapat dituliskan kode penghapusan untuk list yang telah dideklarasikan\n",
    "list_berulang.clear() \n",
    "#dengan format : nama list.clear()\n",
    "\n",
    "print('list setelah semua data dihapus: ')\n",
    "print(list_berulang)\n",
    "#pencetakan list setelah dihapus\n",
    "\n",
    "#output yang dikeluarkan pasti berupa list kosong karena semua anggotanya telah dihapus."
   ]
  },
  {
   "cell_type": "markdown",
   "id": "1b005d0f",
   "metadata": {},
   "source": [
    "## 5.14 FOR LOOP\n",
    "Pengertian untuk kode for loop kurang lebih sama dengan while loop. Kode for loop digunakan untuk mengulangi urutan pada suatu list, dimana setelah dijalankannya maka kita sebagai pengguna dapat mengulangi suatu pernyataan berkali kali untuk satu anggota atau setiap anggota. \n",
    "\n",
    "Pada pyhton kode for loop  digunakan untuk menjalankan data yang diinpu sesuai perintah berulang ulang kali, karena ada syarat yang harus disesuaikan juga. Jika syaratnya sesuai maka dapat dilanjutkan kepada data maupun proses selanjutnya."
   ]
  },
  {
   "cell_type": "code",
   "execution_count": 37,
   "id": "bdaa7747",
   "metadata": {
    "scrolled": true
   },
   "outputs": [
    {
     "name": "stdout",
     "output_type": "stream",
     "text": [
      "Beta\n",
      "Alpha\n",
      "Theta\n",
      "Delta\n"
     ]
    }
   ],
   "source": [
    "#LATIHAN 1 \n",
    "\n",
    "#pendeklarasian list data yang akan di proses\n",
    "matematika = [\"Beta\", \"Alpha\",\"Theta\",\"Delta\"]\n",
    "for tanda in matematika:\n",
    "    print(tanda)\n",
    "    \n",
    "#kode diatas seperti menandakan anggota pada list matematika dimana semua anggota tersebut merupakan berjenis tanda\n",
    "#lalu diperintahkan untuk mencetak anggota yang berjenis tanda pad list matematika"
   ]
  },
  {
   "cell_type": "code",
   "execution_count": 39,
   "id": "4bfb4c47",
   "metadata": {},
   "outputs": [
    {
     "name": "stdout",
     "output_type": "stream",
     "text": [
      "M\n",
      "a\n",
      "t\n",
      "e\n",
      "m\n",
      "a\n",
      "t\n",
      "i\n",
      "k\n",
      "a\n"
     ]
    }
   ],
   "source": [
    "#LATIHAN 2\n",
    "\n",
    "#ini adalah contoh jika tidak adanya pendeklarasian data berupa list\n",
    "#melainkan data yang akan diproses ada pada kode for setelah penginisialisasian variabel\n",
    "#dan hanya berupa 1 data berupa string.\n",
    "for x in \"Matematika\":\n",
    "    print(x)\n",
    "\n",
    "#maka output yang akan dikeluarkan adalah berupa setiap huruf pada kalimat."
   ]
  },
  {
   "cell_type": "markdown",
   "id": "7a981d78",
   "metadata": {},
   "source": [
    "### Kode For dengan Break\n",
    "Kode break berfungsi untuk menghentian pengerjaan data jika syarat yang memuat perintah break terpenuhi."
   ]
  },
  {
   "cell_type": "code",
   "execution_count": 42,
   "id": "ad2cff5c",
   "metadata": {},
   "outputs": [
    {
     "name": "stdout",
     "output_type": "stream",
     "text": [
      "Beta\n",
      "Alpha\n",
      "Kalkulus\n"
     ]
    }
   ],
   "source": [
    "#LATIHAN 3\n",
    "\n",
    "matematika = [\"Beta\", \"Alpha\",\"Kalkulus\",\"Theta\",\"Delta\"]\n",
    "for tanda in matematika:\n",
    "    print(tanda)\n",
    "    if tanda == \"Kalkulus\":\n",
    "        break\n",
    "#sesuai dengan syarat yang diinput data yang akan diproses akan sesuai urutan data yang dimasukkan\n",
    "#jika pada tengah tengan urutan data ternyata tidak memenuhi syarat pertama(False) maka akan dilanjutkan pada syarat kedua\n",
    "#pada syarat kedua terdapat perintah \"break\" dimana itu berarti ketika ada data yang sesuai dengan syarat ke 2 maka tidak adanya lagi data yang akan di proses\n",
    "#atau dengan kata lain kode berhenti berjalan."
   ]
  },
  {
   "cell_type": "code",
   "execution_count": 46,
   "id": "76ed6695",
   "metadata": {},
   "outputs": [
    {
     "name": "stdout",
     "output_type": "stream",
     "text": [
      "Beta\n",
      "Alpha\n"
     ]
    }
   ],
   "source": [
    "#penempatan kode break akan sangad berpengaruh dengan output yang akan dikeluarkan oleh sistem\n",
    "#ketika penempatak perintah if dan break ada sebelum output dikeluarkan maka akan menjadi seperti ini\n",
    "\n",
    "matematika = [\"Beta\", \"Alpha\",\"Kalkulus\",\"Theta\",\"Delta\"]\n",
    "for tanda in matematika:\n",
    "    if tanda == \"Kalkulus\":\n",
    "        break\n",
    "    print(tanda)\n",
    "#maka output akan berhenti pada data sebelum syarat kedua atau sebelum pada pernyataan if, begitu juga sebaliknya pada kodde sebelumnya."
   ]
  },
  {
   "cell_type": "markdown",
   "id": "4fe2fe82",
   "metadata": {},
   "source": [
    "### Kode For dengan Continue\n",
    "Sedangkan untuk kode continue berfungsi untuk menlanjutkan pengerjaan tanpa mengikut sertakan data yang memenuhi syarat lalu melanjutkan dengan data selanjutnya."
   ]
  },
  {
   "cell_type": "code",
   "execution_count": 47,
   "id": "66d825a9",
   "metadata": {
    "scrolled": true
   },
   "outputs": [
    {
     "name": "stdout",
     "output_type": "stream",
     "text": [
      "Beta\n",
      "Alpha\n",
      "Theta\n",
      "Delta\n"
     ]
    }
   ],
   "source": [
    "#LATIHAN 4 \n",
    "\n",
    "matematika = [\"Beta\", \"Alpha\",\"Kalkulus\",\"Theta\",\"Delta\"]\n",
    "for tanda in matematika:\n",
    "    if tanda == \"Kalkulus\":\n",
    "        continue\n",
    "    print(tanda)\n",
    "    \n",
    "#jika perintah continue diletakkan sebelum perintah ouput dikeluarkan\n",
    "#maka output yang dikeluarkan berupa semua data yang memenuhi syarat kedua dan tanpa data yang tidak memenuhi syarat pertama tetapi memenuhi syarat ke dua"
   ]
  },
  {
   "cell_type": "code",
   "execution_count": 49,
   "id": "dffb2387",
   "metadata": {},
   "outputs": [
    {
     "name": "stdout",
     "output_type": "stream",
     "text": [
      "Beta\n",
      "Alpha\n",
      "Kalkulus\n",
      "Theta\n",
      "Delta\n"
     ]
    }
   ],
   "source": [
    "#Bagaimana jika diletakkan sebaliknya\n",
    "\n",
    "matematika = [\"Beta\", \"Alpha\",\"Kalkulus\",\"Theta\",\"Delta\"]\n",
    "for tanda in matematika:\n",
    "    print(tanda)\n",
    "    if tanda == \"Kalkulus\":\n",
    "        continue\n",
    "        \n",
    "#maka data yang memenuhi syarat kedua juga ikut dicetak pada output."
   ]
  },
  {
   "cell_type": "markdown",
   "id": "9218e746",
   "metadata": {},
   "source": [
    "### Kode For dengan Else\n",
    "Sama seperti kode while dengan else, kode for dengan else juga berfungsi dimana ketika data yang diberikan memenuhi syarat(True) maka akan dilanjutkan mencocokkan data dengan syarat namun jika data yang dicocokkan dengan syarat ternyata tidak cocok (False) maka yang akan dicetak oleh sistem adalah pernyataan yang diinput pada kode else."
   ]
  },
  {
   "cell_type": "code",
   "execution_count": 52,
   "id": "8301e0d4",
   "metadata": {},
   "outputs": [
    {
     "name": "stdout",
     "output_type": "stream",
     "text": [
      "1\n",
      "2\n",
      "3\n",
      "4\n",
      "5\n",
      "habis semua.\n"
     ]
    }
   ],
   "source": [
    "#LATIHAN 5\n",
    "\n",
    "angka = [1,2,3,4,5]#pendeklarasian list data yang akan diproses\n",
    "\n",
    "for satuan in angka:\n",
    "    print(satuan)\n",
    "else:\n",
    "    print(\"habis semua.\")\n",
    "    \n",
    "#karena data yang terakhir telah di cetak dan ketika ingin melanjutkan namun tidak ada lagi data yang dapat diproses\n",
    "#maka sistem akan mencetak pernyataan pada kode else."
   ]
  },
  {
   "cell_type": "markdown",
   "id": "10282761",
   "metadata": {},
   "source": [
    "## 5.15 FUNGSI RANGE\n",
    "Fungsi range memiliki definisi yang sama dengan list bedanya hanya pada data yang diinpu jika pada fungsi range kita hanya peru menginput batas jadi nanti sistem yang akan mengenal batas yang kita berikan lalu sistem akan mencetak anggota range, sedangkan jika pada list kita memasukkan sendiri anggota dari kelompok data yang akan dioperasikan.\n",
    "\n",
    "Fungsi range ini juga berkaitan dengan fungsi forl loop diatas. Pada range terdapat beberapa syntax yang berpengaruh pada kode ini yaitu ada start, stop, dan step."
   ]
  },
  {
   "cell_type": "code",
   "execution_count": 55,
   "id": "5de8c510",
   "metadata": {},
   "outputs": [
    {
     "name": "stdout",
     "output_type": "stream",
     "text": [
      "3\n",
      "4\n",
      "5\n"
     ]
    }
   ],
   "source": [
    "#LATIHAN 1\n",
    "\n",
    "Bilangan_bulat = range (3,6) #pada pendeklarasian disebutkan batas data apa saja yang menjadi syarat output.\n",
    "\n",
    "for n in Bilangan_bulat : #kofe for pada pengoprasian kode range dan berfungsi untuk menjelaskan perintah.\n",
    "    \n",
    "    print (n)\n",
    "\n",
    "#maka output yang dikeluarkan adalah angka angka yang ada pada batas yang diberikan."
   ]
  },
  {
   "cell_type": "code",
   "execution_count": 54,
   "id": "58134263",
   "metadata": {},
   "outputs": [
    {
     "name": "stdout",
     "output_type": "stream",
     "text": [
      "3\n",
      "5\n",
      "7\n",
      "9\n",
      "11\n",
      "13\n",
      "15\n",
      "17\n",
      "19\n"
     ]
    }
   ],
   "source": [
    "#LATIHAN 2\n",
    "\n",
    "#jika pada latihan 1 range yang diminta berupa angka yang berurutan maka yang dibawah ini adalah range yang dimana angkanya tidak beruntun melainkan bilangan kelipatan.\n",
    "\n",
    "Bilangan_kelipatan = range(3,20,2) #nama range = range(batas awal, batas akhir, kelipatan) \n",
    "#dimana format diatas juga disebut format (start, stop, step)\n",
    "\n",
    "for n in x:\n",
    "    print(n)\n",
    "\n",
    "#maka output yang dikeluarkan merupakan bilangan yang berkelipatan 2 dari angka 3 hingga angka 20"
   ]
  },
  {
   "cell_type": "code",
   "execution_count": 59,
   "id": "e168f2b9",
   "metadata": {},
   "outputs": [
    {
     "name": "stdout",
     "output_type": "stream",
     "text": [
      "0\n",
      "1\n",
      "2\n",
      "3\n",
      "4\n",
      "5\n",
      "6\n",
      "7\n",
      "8\n",
      "done!!!\n"
     ]
    }
   ],
   "source": [
    "#LATIHAN 3\n",
    "\n",
    "#pada kali ini saya akan mencoba menggabungkan kode range, for dan else\n",
    "\n",
    "for bil_bulat in range(9): \n",
    "    #kode for menjelaskan variabel yang akan dicetak dengan fungsi range\n",
    " \n",
    "    print(bil_bulat)\n",
    "    \n",
    "else : \n",
    "    #dan kode else sebagai tambahan syarat jikalau ada data yang tidak memenuhi syarat maka pernyataan else inilah yang akan di cetak oleh sistem.\n",
    "   \n",
    "    print(\"done!!!\")"
   ]
  }
 ],
 "metadata": {
  "kernelspec": {
   "display_name": "Python 3 (ipykernel)",
   "language": "python",
   "name": "python3"
  },
  "language_info": {
   "codemirror_mode": {
    "name": "ipython",
    "version": 3
   },
   "file_extension": ".py",
   "mimetype": "text/x-python",
   "name": "python",
   "nbconvert_exporter": "python",
   "pygments_lexer": "ipython3",
   "version": "3.9.13"
  }
 },
 "nbformat": 4,
 "nbformat_minor": 5
}
