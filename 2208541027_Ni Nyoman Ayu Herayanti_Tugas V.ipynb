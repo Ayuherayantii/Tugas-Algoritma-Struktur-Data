{
 "cells": [
  {
   "cell_type": "markdown",
   "id": "e89c648a",
   "metadata": {},
   "source": [
    "# 5.16 LIST 2 DIMENSI\n",
    "Pada python sistem tidak hanya dapat mengerjakan list 1 dimensi tetapi juga dapat mengerjakan list berupa 2 dimensi. Data 2 dimensi merupakan sebuah data berupa list atau array yang didalamny terdapat list/array yang membentuk list 2 dimensi tersebut. List 2 dimensi ini pada matematik disebut sebagai matriks. Tak hanya matriks, list 2 dimensi biasanya juga digunakan utuk menyimpan struktur data yang kompleks sepert tabel, graph, dsb. "
   ]
  },
  {
   "cell_type": "code",
   "execution_count": 3,
   "id": "30730fe7",
   "metadata": {},
   "outputs": [
    {
     "name": "stdout",
     "output_type": "stream",
     "text": [
      "contoh bilangan bulat:\n",
      "[[2, 4, 24, 6, 86], [1, 9, 7, 33, 63], [2, 4, 6, 8, 10], [3, 9, 15, 21, 27]]\n"
     ]
    }
   ],
   "source": [
    "#LATIHAN 1 \n",
    "\n",
    "#pada pembuatan list 2 dimensi data yang dapat dimasukkan adalah data homogen berupa integer seperti yang dibawah ini\n",
    "#pendeklarasian list dapat dilakukan seperti dibawah ini, dimana bentuk ini berupa bentuk matriks pada matematika\n",
    "bil_bulat = [\n",
    "    [2,4,24,6,86],\n",
    "    [1,9,7,33,63],\n",
    "    [2,4,6,8,10],\n",
    "    [3,9,15,21,27]\n",
    "]\n",
    "\n",
    "#setelah pendeklarasian, jika ingin memerintahkan sistem untuk mencetak data yang telah dimasukkan maka perintah print dapat dimasukkan\n",
    "print('contoh bilangan bulat:')\n",
    "print(bil_bulat)\n",
    "\n",
    "#output yang akan dikerluarkan seperti ini :\n",
    "#[[2, 4, 24, 6, 86], [1, 9, 7, 33, 63], [2, 4, 6, 8, 10], [3, 9, 15, 21, 27]]\n",
    "\n",
    "#dapat dilihat diatas data bentuk matriks yang kita masukkan jika diperintahkan untuk dicetak akan berbentik list\n",
    "#dimana didalam list tersebut terdiri dari beberapa list pembentuk.\n",
    "#mulai dari list baris pertama hingga list baris keempat."
   ]
  },
  {
   "cell_type": "code",
   "execution_count": 4,
   "id": "ca4872fc",
   "metadata": {},
   "outputs": [
    {
     "name": "stdout",
     "output_type": "stream",
     "text": [
      "Data mahasiswa angkatan 22 : \n",
      "[['anna', 'etha', 'itha', 'hera'], [2, 9, 6, 75], ['yuni', 5, 'deswinta', 3], [23, 90, 'galuh', 8]]\n"
     ]
    }
   ],
   "source": [
    "#LATIHAN 2 \n",
    "\n",
    "#Jika pada latihan 1 data list yang dimasukkan berupa bilangan atau data bertipe integer\n",
    "#sekarang saya akan mencoba memasukkan data heterogen berupa integer dan strin yang disatukkan.\n",
    "\n",
    "angkatan_22 = [\n",
    "    [\"anna\",\"etha\",\"itha\",\"hera\"], #perbedaan tanda petik pada data bertipe string tidak akan mempengaruhi kode\n",
    "    [2,9,6,75],\n",
    "    ['yuni',5,'deswinta',3],\n",
    "    [23,90,'galuh',8]             #serta pencampuran 2 tipe data dalam suatu list juga tidak akan mempengaruhi kode\n",
    "]\n",
    "\n",
    "#format pendeklarasian data list adalah berupa : \n",
    "#nama list 2 dimensi = [ \n",
    "#    [list baris ke-1], (jangan lupa penambahan tanda koma pada baris awal hingga baris ke n-1)\n",
    "#    [list baris ke-2], (penambahan tanda koma disini berarti matriks ini tetap berlanjut hingga baris terakhir)\n",
    "#    [list baris ke-n]  (tanda koma ini juga memudahkan sistem untuk mencetak data list berupa matriks manjadi data list 2 dimensi)\n",
    "#]\n",
    "\n",
    "print(\"Data mahasiswa angkatan 22 : \")\n",
    "print(angkatan_22)\n",
    "\n",
    "#output yang akan dikeluarkan akan berupa string dan juga integer\n",
    "#jadi dapat disimpulkan bahwa kode list 2 dimensi ini dapat menggunakan bertipe string, data bertipe integer serta data bertipe campuran."
   ]
  },
  {
   "cell_type": "code",
   "execution_count": 5,
   "id": "c4602486",
   "metadata": {},
   "outputs": [
    {
     "name": "stdout",
     "output_type": "stream",
     "text": [
      "list dibawah ini merupakan bilangan bulat kelipatan 2 : \n"
     ]
    },
    {
     "data": {
      "text/plain": [
       "[2, 4, 6, 8, 10]"
      ]
     },
     "execution_count": 5,
     "metadata": {},
     "output_type": "execute_result"
    }
   ],
   "source": [
    "# LATIHAN 3 \n",
    "\n",
    "#pencetakkan data list juga bisa dilakukan perbaris atau hanya satu list pembentuk yang dicetak. \n",
    "\n",
    "#format : nama list 2 dimensi [urutan baris]\n",
    "print(\"list dibawah ini merupakan bilangan bulat kelipatan 2 : \")\n",
    "bil_bulat[2]\n",
    "\n",
    "#list yang di proses merupakan list yang ada pada latihan 1, karena setelah menjalankan kodenya\n",
    "#data yang dijalankan akan diingat oleh sistem \n",
    "#maka dapat kita perintahkan kembali data yang ada dengan kode perintah yang baru\n",
    "\n",
    "#output yang dikeluarkan adalah satu list sesuai dengan urutan kode diatas."
   ]
  },
  {
   "cell_type": "code",
   "execution_count": 6,
   "id": "5fd31c89",
   "metadata": {
    "scrolled": true
   },
   "outputs": [
    {
     "name": "stdout",
     "output_type": "stream",
     "text": [
      "salah satu mahasiswa angkatan 22 yang mendapatkan nilai excelent :\n"
     ]
    },
    {
     "data": {
      "text/plain": [
       "'galuh'"
      ]
     },
     "execution_count": 6,
     "metadata": {},
     "output_type": "execute_result"
    }
   ],
   "source": [
    "#LATIHAN 4 \n",
    "\n",
    "#Jika pada latihan sebelumnya yang kita cetak adalah satu list pembentuk list 2 dimensi\n",
    "#namun kali ini yang akan kita cetak adalah salah satu anggota pada list pembetuk list 2 dimensi\n",
    "\n",
    "print (\"salah satu mahasiswa angkatan 22 yang mendapatkan nilai excelent :\")\n",
    "\n",
    "angkatan_22[3][2]\n",
    "#format penulisan kode : nama list[urutan baris][urutan kolom]\n",
    "\n",
    "#output yang akan dikeluarkan hanya satu data yang merupakan anggota dari list pembentuk list 2 dimensi\n",
    "#dan data yang dicetak akan berada pada baris serta kolom yang dimasukkan pada kode perintah pencetakan"
   ]
  },
  {
   "cell_type": "code",
   "execution_count": 7,
   "id": "36094808",
   "metadata": {},
   "outputs": [
    {
     "name": "stdout",
     "output_type": "stream",
     "text": [
      "data terbaru : \n",
      "256\n",
      "\n",
      "list data berupa matris setelah diubah\n"
     ]
    },
    {
     "data": {
      "text/plain": [
       "[['anna', 'etha', 256, 'hera'],\n",
       " [2, 9, 6, 75],\n",
       " ['yuni', 5, 'deswinta', 3],\n",
       " [23, 90, 'galuh', 8]]"
      ]
     },
     "execution_count": 7,
     "metadata": {},
     "output_type": "execute_result"
    }
   ],
   "source": [
    "#LATIHAN 5\n",
    "\n",
    "#data yang merupakan anggota list data diganti degan menggunakan kode dibawah ini\n",
    "\n",
    "#format kode penggantian : nama list[pada baris ke-][pada kolom ke-] = data pengganti\n",
    "angkatan_22[0][2] = 256\n",
    "\n",
    "#jika ingin memastikan apakah data telah diganti dapat mencetak data yang telah diganti dengan kode pencetakan satu data\n",
    "#seperti pada latihan sebelumnya\n",
    "print('data terbaru : ')\n",
    "print(angkatan_22[0][2])\n",
    "\n",
    "print(\"\")  #pencetakan spasi\n",
    "\n",
    "#setelah itu dapat juga kita cetak list 2 dimensi setelah dilakukannya penggantian data\n",
    "#hanya dengan memanggil nama listnya maka output yang kita dapatkan berupa bentuk list yang dimsukkan bedanya hanya pada data yang telah diganti\n",
    "print('list data berupa matris setelah diubah')\n",
    "angkatan_22     #format pemanggilan : nama list"
   ]
  },
  {
   "cell_type": "code",
   "execution_count": 11,
   "id": "453f28d8",
   "metadata": {
    "scrolled": true
   },
   "outputs": [
    {
     "name": "stdout",
     "output_type": "stream",
     "text": [
      "penjabaran list pembentuk beserta anggota-anggotanya :\n",
      "\n",
      "[2, 4, 24, 6, 86]\n",
      "2\n",
      "4\n",
      "24\n",
      "6\n",
      "86\n",
      "[1, 9, 7, 33, 63]\n",
      "1\n",
      "9\n",
      "7\n",
      "33\n",
      "63\n",
      "[2, 4, 6, 8, 10]\n",
      "2\n",
      "4\n",
      "6\n",
      "8\n",
      "10\n",
      "[3, 9, 15, 21, 27]\n",
      "3\n",
      "9\n",
      "15\n",
      "21\n",
      "27\n"
     ]
    }
   ],
   "source": [
    "#LATIHAN 6 \n",
    "\n",
    "# pada matriks kita dapat memanggil baris lalu mencetaknya sesuai urutan kebawah.\n",
    "#pada pemanggilan ini akan menggunakan kode for untuk menjelaskan perintah pada sistem\n",
    "#atau secara singkat kode dibawah ini berguna untuk menampilkan semua isi dalam list 2 dimensi,\n",
    "#maka digunakannya perulangan bersarang.\n",
    "\n",
    "\n",
    "print(\"penjabaran list pembentuk beserta anggota-anggotanya :\")\n",
    "print(\"\") # pencetakan spasi\n",
    "\n",
    "\n",
    "for baris in bil_bulat:   # format : for nama list pembentuk in nama list 2 dimensi:\n",
    "    print(baris)          #              print(nama list pembentuk)\n",
    "    for kolom in baris:   #              for nama anggota list pembentuk in nama list pembentuk:\n",
    "        print(kolom)      #                  print (nama anggota list pembentuk)\n",
    "        \n",
    "#outut yang akan didapatkan adalah pertama list pembentuk lalu penjabaran anggota anggota list pembentuk\n",
    "#lalu akan dicetak list pembentuk selanjutnya, begitu seterusnya sehingga  list pembentuk habis."
   ]
  },
  {
   "cell_type": "code",
   "execution_count": 13,
   "id": "c15239f5",
   "metadata": {
    "scrolled": true
   },
   "outputs": [
    {
     "name": "stdout",
     "output_type": "stream",
     "text": [
      "list 2 dimensi dengan anggota yang sama : \n",
      "[[0, 0, 0, 0, 0], [0, 0, 0, 0, 0], [0, 0, 0, 0, 0], [0, 0, 0, 0, 0], [0, 0, 0, 0, 0]]\n"
     ]
    }
   ],
   "source": [
    "#LATIHAN 7\n",
    "\n",
    "#pembuatan list 2 dimensi dapat dilakukan seperti dibawah ini\n",
    "#namun bedanya jika menggunakan kode ini semua anggota pembentuk list ini adalah anggota yang sama\n",
    "\n",
    "print(\"list 2 dimensi dengan anggota yang sama : \")\n",
    "baris, kolom = (5,5)\n",
    "list_2_dimensi = [[0]*kolom]*baris\n",
    "print(list_2_dimensi)\n",
    "\n",
    "#pada baris pertama kode yang diperintahkan dijelaskan bahwa akan ada 5 anggota pada list pembentuk\n",
    "#dan ada 5 list pembentuk untuk membentuk list 2 dimensi\n",
    "#dapat kita lihat bahwa diatas ini dimasukkan anggota (0) dimana anggota ini yang akan membentuk list\n",
    "# lalu anggota akan dikalikan dengan jumlah anggota list setelah itu akan dikalikan lagi dengan jumlah\n",
    "#list pembentuknya. \n",
    "\n",
    "#maka output yang akan dihasilkan seperti yang dibawah ini:"
   ]
  },
  {
   "cell_type": "code",
   "execution_count": 17,
   "id": "796f50b0",
   "metadata": {},
   "outputs": [
    {
     "name": "stdout",
     "output_type": "stream",
     "text": [
      "list 2 dimensi dengan anggota yang sama sebelum diubah : \n",
      "[[0, 0, 0, 0, 0], [0, 0, 0, 0, 0], [0, 0, 0, 0, 0], [0, 0, 0, 0, 0], [0, 0, 0, 0, 0]] sebelum\n",
      "\n",
      "list 2 dimensi dengan anggota yang sama setelah diubah : \n",
      "[[1, 0, 0, 0, 0], [1, 0, 0, 0, 0], [1, 0, 0, 0, 0], [1, 0, 0, 0, 0], [1, 0, 0, 0, 0]] setelah\n"
     ]
    }
   ],
   "source": [
    "#LATIHAN 8\n",
    "\n",
    "#contoh pada latihan sebelumnya adalah sebuah list yang tebentuk dari anggota yang sama\n",
    "#itu juga berarti setiap list pembentuknya merupakan list yang sama\n",
    "\n",
    "print(\"list 2 dimensi dengan anggota yang sama sebelum diubah : \")\n",
    "baris, kolom = (5,5)\n",
    "list_2_dimensi = [[0]*kolom]*baris\n",
    "print(list_2_dimensi, \"sebelum\")\n",
    "\n",
    "#bagaimana jika salah satu anggota pada list pembentuk diganti, disaat semua list pembentuknya merupakan list yang sama\n",
    "#maka penggantian anggota juga akan terjadi pada semua list pembentuk \n",
    "#penggantian dapat menggunakan kode dibawah ini\n",
    "\n",
    "print (\"\")   #pencetakan spasi\n",
    "\n",
    "print(\"list 2 dimensi dengan anggota yang sama setelah diubah : \")\n",
    "list_2_dimensi[0][0] = 1\n",
    "print(list_2_dimensi, 'setelah')\n",
    "\n",
    "#maka setip anggota (0) dengan urutan ke 0 pada setiap list akan di ganti dengan anggota (1)"
   ]
  },
  {
   "cell_type": "markdown",
   "id": "eb5b9c26",
   "metadata": {},
   "source": [
    "# 5.17 TUPLES\n",
    "Kode tuples kurang lebih sama dalam segi pengoprasiannya dengan kode List hanya saja pada kode truples kita tidak dapat mengganti anggota yang telah dijalankan, sedangkan pada kode list dapat diganti setelah di jalankan.\n",
    "\n",
    "Kode Tuples dibuat dengan cara menambahkan anggota pada tanda () dan di pisahkan oleh tanda koma(,)."
   ]
  },
  {
   "cell_type": "code",
   "execution_count": 29,
   "id": "ba8d0a3d",
   "metadata": {
    "scrolled": true
   },
   "outputs": [
    {
     "name": "stdout",
     "output_type": "stream",
     "text": [
      "Berikut merupakan tuples dimana tidak adanya anggota :\n",
      "()\n",
      "\n",
      "Berikut tuples yang beranggotakan data bertipe integer :\n",
      "(4, 8, 2, 8, 5)\n",
      "\n",
      "Berikut tuples yang beranggotakan data bertipe campuran :\n",
      "(23, 'Matematika', 56, 0.9, 'Udayana')\n",
      "\n",
      "Berikut tuples yang beranggotakan data bertipe campuran :\n",
      "('Universitas', [2, 8, 19], (6, 9, 20), ['Matematika', 'FMIPA', 'Udayana'])\n",
      "\n",
      "Tuples dengan kode yang lebih sederhana :\n",
      "(1, 2, 3, 8, 'hera')\n"
     ]
    }
   ],
   "source": [
    "#LATIHAN 1\n",
    "\n",
    "#Berikut beberapa perintah pencetakan kode tuples untuk beberapa tipe data\n",
    "#format penulisan kode : nama tuples = (anggota tuples)\n",
    "\n",
    "#TUPLES TANPA ANGGOTA\n",
    "\n",
    "tuple_kosong = ()\n",
    "print(\"Berikut merupakan tuples dimana tidak adanya anggota :\")\n",
    "print(tuple_kosong)\n",
    "#kode diatas memerintahkan sistem untuk mencetak sebuah tuples tanpa anggota\n",
    "#dimana output yang dikeluarkan hanya sebuah tanda kurung tanpa anggota ()\n",
    "\n",
    "\n",
    "print(\"\")   #pencetakan spasi\n",
    "\n",
    "\n",
    "#TUPLES DENGAN ANGGOTA BERTIPE INTEGER\n",
    "\n",
    "tuple_bertipe_integer = (4,8,2,8,5)\n",
    "print(\"Berikut tuples yang beranggotakan data bertipe integer :\")\n",
    "print(tuple_bertipe_integer)\n",
    "#kode ini memerintahkan sistem mencetak data bertipe integer yang dimasukkan\n",
    "#data tersebut akan dicetak menjadi sebuah tuples dengan urutan yang sesuai.\n",
    "\n",
    "\n",
    "print(\"\")   #pencetakan spasi\n",
    "\n",
    "\n",
    "#TUPLES DENGAN TIPE CAMPURAN (INTEGER, FLOAT, STRING)\n",
    "\n",
    "tuple_bertipe_campuran = (23,\"Matematika\",56,0.9,'Udayana')\n",
    "print(\"Berikut tuples yang beranggotakan data bertipe campuran :\")\n",
    "print(tuple_bertipe_campuran)\n",
    "#Data yang dapat diinput juga bertipe float dan string dan juga dapat bertipe campuran \n",
    "\n",
    "\n",
    "print(\"\")   #pencetakan spasi\n",
    "\n",
    "#TUPLES BERLAPIS\n",
    "\n",
    "tuple_berlapis = (\"Universitas\",[2,8,19],(6,9,20),[\"Matematika\",'FMIPA',\"Udayana\"])\n",
    "print(\"Berikut tuples yang beranggotakan data bertipe campuran :\")\n",
    "print(tuple_berlapis)\n",
    "#sama seperti list diatas, dimana list dapat berupa 2 dimensi \n",
    "#sama seperti itu tuples juga dapat berupa 2 dimensi\n",
    "#hasil yang dicetak juga tetap sama pada posisi yang diinput.\n",
    "\n",
    "print(\"\")   #pencetakan spasi\n",
    "\n",
    "#kode tuples juga dapat langsung dideklarasikan seperti dibawah ini\n",
    "#kode ini lebih sederhana dan lebih efisiensi, kode ini tida menggunakan () untuk mendeklarasikan anggotanya\n",
    "\n",
    "tuples = 1,2,3,8,\"hera\"\n",
    "print(\"Tuples dengan kode yang lebih sederhana :\")\n",
    "print(tuples)\n",
    "\n",
    "#hasil pencetakannya pun tidak ada bedanya dengan yang sebelumnya"
   ]
  },
  {
   "cell_type": "code",
   "execution_count": 33,
   "id": "fbd97eb8",
   "metadata": {},
   "outputs": [
    {
     "name": "stdout",
     "output_type": "stream",
     "text": [
      "<class 'str'>\n",
      "\n",
      "<class 'tuple'>\n",
      "\n",
      "<class 'tuple'>\n"
     ]
    }
   ],
   "source": [
    "#LATIHAN 2\n",
    "\n",
    "#pengecekan tipe data pada perintah\n",
    "#format kode pengecekan : nama data yang ingin dicek = (\"data\")\n",
    "#                         print(type(nama data))\n",
    "\n",
    "tuples_1 = (\"Matematika\")\n",
    "print(type(tuples_1))\n",
    "\n",
    "print(\"\")   #pencetakan spasi\n",
    "\n",
    "tuples_2 = (\"Matematika\",)\n",
    "print(type(tuples_2))\n",
    "\n",
    "print(\"\")   #pencetakan spasi\n",
    "\n",
    "tuples_3 = \"Matematika\",\n",
    "print(type(tuples_3))\n",
    "\n",
    "#seperti kode yang telah dijalankan kita dapat mengecek tipe data\n",
    "#pembedanya tipe str dengan tuple hanya pda tanda koma yang diletakkan setelah anggota data\n",
    "#tanda (,) berarti masih ada anggota lanjutan pada data tersebut\n",
    "#jika ada tanda koma berarti data tersebut betipe tuple namun jika tidak ada tanda koma maka berarti data tersebut bertipe str"
   ]
  },
  {
   "cell_type": "code",
   "execution_count": 38,
   "id": "00907b84",
   "metadata": {},
   "outputs": [
    {
     "name": "stdout",
     "output_type": "stream",
     "text": [
      "Salah satu lambang matematika : \n",
      "Theta\n",
      "\n",
      "Salah satu lambang matematika :  Theta\n"
     ]
    }
   ],
   "source": [
    "#LATIHAN 3 \n",
    "\n",
    "#Pemanggilan salah satu anggota pada tuple atau biasanya disebut sebagai indexing\n",
    "#format pemanggilan : print(nama tuple[nomor urutan anggota])\n",
    "\n",
    "matematika = (\"Beta\", \"Alpha\",\"Kalkulus\",\"Theta\",\"Delta\")\n",
    "#pertama dideklarasikan tuple berserta aggotanya \n",
    "#setelah itu dapat dilakukan pemanggilan salah satu anggota\n",
    "\n",
    "print(\"Salah satu lambang matematika : \")\n",
    "print(matematika[3])\n",
    "#penulisan kode dapat dilakukan seperti yang diatas ini\n",
    "\n",
    "print(\"\")\n",
    "\n",
    "#atau dapat juga dilakukan seperti ini\n",
    "print(\"Salah satu lambang matematika : \", matematika[3])\n",
    " \n",
    "#output yang akan dikeluarkan berupa anggota yang dipanggil\n",
    "#perbedaan output dari kedua kode diatas hanya terletak pada pencetakan aggota \n",
    "#jika ada tambahan kalimat yang ingin dicetak sebelum anggota dan dicetak secara terpisah dapat menggunakan kode diatas\n",
    "#namun jika ingi pencetakan secara tersambung maka dapat menggunakan kode dibawah."
   ]
  },
  {
   "cell_type": "code",
   "execution_count": 42,
   "id": "ea85a9fe",
   "metadata": {},
   "outputs": [
    {
     "name": "stdout",
     "output_type": "stream",
     "text": [
      "Salah satu matakuliah matematika : \n",
      "Kalkulus\n",
      "\n",
      "Salah satu matakuliah matematika :  Kalkulus\n"
     ]
    }
   ],
   "source": [
    "#Tak hanya pemanggilan dengan urutan biasa namun juga bisa dilakukan dengan pemanggilan dengan urutan min\n",
    "\n",
    "matematika = (\"Beta\", \"Alpha\",\"Kalkulus\",\"Theta\",\"Delta\")\n",
    "#pertama dideklarasikan tuple berserta aggotanya \n",
    "#setelah itu dapat dilakukan pemanggilan salah satu anggota\n",
    "\n",
    "print(\"Salah satu matakuliah matematika : \")\n",
    "print(matematika[-3])\n",
    "#penulisan kode dapat dilakukan seperti yang diatas ini\n",
    "\n",
    "print(\"\")\n",
    "\n",
    "#atau dapat juga dilakukan seperti ini\n",
    "print(\"Salah satu matakuliah matematika : \", matematika[-3])\n",
    " \n",
    "#anggota [-3] merupakan anggota ketiga dari akhir yang data tuple yang dimasukkan."
   ]
  },
  {
   "cell_type": "code",
   "execution_count": 47,
   "id": "1c9af219",
   "metadata": {
    "scrolled": true
   },
   "outputs": [
    {
     "name": "stdout",
     "output_type": "stream",
     "text": [
      "Pemanggilan semua anggota : \n",
      "('M', 'A', 'T', 'E', 'M', 'A', 'T', 'I', 'K', 'A')\n",
      "\n",
      "pencetakan data dengan batas :\n",
      "('T', 'E', 'M', 'A', 'T', 'I', 'K')\n",
      "\n",
      "pencetakan data dengan batas :\n",
      "('M', 'A', 'T', 'E', 'M', 'A')\n",
      "\n",
      "pencetakan data dengan batas :\n",
      "('E', 'M', 'A', 'T', 'I', 'K', 'A')\n"
     ]
    }
   ],
   "source": [
    "#LATIHAN 4 \n",
    "\n",
    "#Jika pada latihan sebelumnya hanya satu anggota yang dipanggil \n",
    "#pada latihan ini akan ada lebih dari satu anggota yang di panggil\n",
    "#dapat menggunakan format : print(nama tuple[batas awal:batas akhir])\n",
    "\n",
    "#pendeklarasian data tuple yg akan diproses\n",
    "jurusan = \"M\",\"A\",\"T\",\"E\",\"M\",\"A\",\"T\",\"I\",\"K\",\"A\"\n",
    "\n",
    "#pemanggilan semua anggota yang diinput pengguna\n",
    "print('Pemanggilan semua anggota : ')\n",
    "print(jurusan[:])\n",
    "\n",
    "#jika tidak ada batas yang dimasukkan maka itu berarti sistem menceetak seluruh anggota\n",
    "#tetapi jika jika tidak dimasukkan batas awal maka yang dicetak adalah anggota dari awal hingga batas akhir\n",
    "#begitu juga sebaliknya jika tidak diinput batas akhir.\n",
    "\n",
    "print(\"\")    #pencetakan spasi\n",
    "\n",
    "print('pencetakan data dengan batas :')\n",
    "print(jurusan[2:-1])\n",
    "#output yang akan dikeluarkan berupa anggota ke 2 hingga anggota terakhir \n",
    "#karena -1 berarti anggota pertama dari akhir\n",
    "\n",
    "print(\"\")    #pencetakan spasi\n",
    "\n",
    "print('pencetakan data dengan batas :')\n",
    "print(jurusan[:-4])\n",
    "#output yang akan dicetak ialah anggota dari awal hingga anggota keempat dari akhir\n",
    "\n",
    "print(\"\")    #pencetakan spasi\n",
    "\n",
    "print('pencetakan data dengan batas :')\n",
    "print(jurusan[3:])\n",
    "#anggota yang dicetak adalah dari anggota ke 3 hingga anggota terakhir.\n",
    "\n",
    "#pemanggilan sejumlah anggota diatas ditentukan dari batas awal dan akhir yang diinput oleh pengguna"
   ]
  },
  {
   "cell_type": "code",
   "execution_count": 25,
   "id": "983e4e2f",
   "metadata": {},
   "outputs": [
    {
     "name": "stdout",
     "output_type": "stream",
     "text": [
      "Jumlah Anggota Tuple Jurusan :  10\n",
      "\n",
      "Jumlah Anggota \"M\" pada tuple jurusan :  2\n",
      "\n",
      "anggota'I' pada tuple ada pada urutan ke :  7\n"
     ]
    }
   ],
   "source": [
    "#LATIHAN 5\n",
    "\n",
    "#Anggota pada sebuah tuples dimana terdata lebih dari satu anggota yang sama, maka dapat dihitung jumlah anggota yang diinginkan\n",
    "#menggunakan format : print(nama tuple.count(data yang ingin dihitung))\n",
    "\n",
    "#Tak hanya anggota tapi kita juga dapat menghitung jumlah seluruh anggota pada sebuah tuple menggunakan kode len\n",
    "#format kode : print(len(nama tuple))\n",
    "\n",
    "#pendeklarasian data tuple yg akan diproses\n",
    "jurusan = \"M\",\"A\",\"T\",\"E\",\"M\",\"A\",\"T\",\"I\",\"K\",\"A\"\n",
    "\n",
    "\n",
    "print(\"Jumlah Anggota Tuple Jurusan : \",  len(jurusan))\n",
    "#output berupa jumlah seluruh anggota pada sebuah tuple\n",
    "\n",
    "\n",
    "print(\"\")   #penecetakan spasi\n",
    "\n",
    "\n",
    "print('Jumlah Anggota \"M\" pada tuple jurusan : ', jurusan.count('M'))\n",
    "#outut yang akan dikeluarkan oleh kode ini ialah jumlah anggota yang di panggil pada sebuah tuple yang diinginkan.\n",
    "\n",
    "print(\"\")   #penecetakan spasi\n",
    "\n",
    "#jika ingin mengetahui urutan sebuah data pada sebuah tuple dapat menggunakan kode index \n",
    "#dengan format : nama tuple.index(anggota)\n",
    "\n",
    "print(\"anggota'I' pada tuple ada pada urutan ke : \", jurusan.index(\"I\"))\n"
   ]
  },
  {
   "cell_type": "code",
   "execution_count": 12,
   "id": "2554f77a",
   "metadata": {},
   "outputs": [
    {
     "name": "stdout",
     "output_type": "stream",
     "text": [
      "apakah Kalkulus ada dalam tuple ?  True\n",
      "apakah Aljabar ada dalam tuple ? False\n"
     ]
    }
   ],
   "source": [
    "#LATIHAN 6\n",
    "\n",
    "matematika = (\"Beta\", \"Alpha\",\"Kalkulus\",\"Theta\",\"Delta\")\n",
    "#pertama dideklarasikan tuple berserta aggotanya \n",
    "\n",
    "#Format kode untuk mengecek salah satu anggota pada sebuah tuple adalah : print('anggota yg ingin di cek' in nama tuple)\n",
    "#kode untuk mengecek anggota ini memudahkan pengguna untuk mengecek anggota yang ingin dicari pada sebuah tuple\n",
    "#tanpa harus mencarinya satu persatu.\n",
    "\n",
    "print('apakah Kalkulus ada dalam tuple ? ','Kalkulus' in matematika)\n",
    "\n",
    "print('apakah Aljabar ada dalam tuple ?', 'Aljabar'in matematika)\n",
    "\n",
    "#output yang akan dikeluarkan adalah 'true' atau 'false'\n",
    "#jika anggota yang ingin dicek pada sebuat tuple tidak ada didalamnya maka output yang akan dikeluarkan adalah 'false'\n",
    "#begitupun sebaliknya, jika anggota yang inggin di cek ada maka yang akan dikeluarkan adalah 'true'"
   ]
  },
  {
   "cell_type": "code",
   "execution_count": 17,
   "id": "bb7bff2e",
   "metadata": {},
   "outputs": [
    {
     "name": "stdout",
     "output_type": "stream",
     "text": [
      "2 tuple yang digabung : \n",
      "('Beta', 'Alpha', 'Kalkulus', 'Theta', 'Delta', 4, 8, 2, 8, 5)\n",
      "\n",
      "tuple 2 dimensi : \n",
      "((4, 8, 2, 8, 5), ('Beta', 'Alpha', 'Kalkulus', 'Theta', 'Delta'))\n"
     ]
    }
   ],
   "source": [
    "#LATIHAN 7 \n",
    "\n",
    "#pertama dilakukannya pendeklarasian 2 buah tuple yang ingin diproses oleh sistem\n",
    "matematika = (\"Beta\", \"Alpha\",\"Kalkulus\",\"Theta\",\"Delta\")\n",
    "bil_bulat = (4,8,2,8,5)\n",
    "\n",
    "\n",
    "#Penggabungan 2 buah tuple menjadi 1 tuple\n",
    "#format : print(tuple1 + tuple2)\n",
    "\n",
    "print(\"2 tuple yang digabung : \")\n",
    "print(matematika + bil_bulat)\n",
    "\n",
    "print(\"\")   #print spasi\n",
    "\n",
    "#Penggabungan 2 tuple menjadi 1 tuple 2 dimensi\n",
    "#format : tuple3 = (tuple1,tuple2)\n",
    "#         print(tuple3)\n",
    "\n",
    "tuple_2_dimensi = (bil_bulat, matematika)\n",
    "print('tuple 2 dimensi : ')\n",
    "print(tuple_2_dimensi)\n",
    "\n",
    "#tuple 2 dimensi tidak hanya dapat dibuat dengan memasukkan beberapa tuple menjadi sebuah bentuk matriks \n",
    "#tapi dapat juga dengan menggabungkan 2 atau lebih tuple menjadi sebuah tuple 2 dimensi seperti diatas.\n"
   ]
  },
  {
   "cell_type": "code",
   "execution_count": 19,
   "id": "4cfc00b4",
   "metadata": {},
   "outputs": [
    {
     "ename": "AttributeError",
     "evalue": "'tuple' object has no attribute 'append'",
     "output_type": "error",
     "traceback": [
      "\u001b[1;31m---------------------------------------------------------------------------\u001b[0m",
      "\u001b[1;31mAttributeError\u001b[0m                            Traceback (most recent call last)",
      "\u001b[1;32m~\\AppData\\Local\\Temp\\ipykernel_17628\\2635175370.py\u001b[0m in \u001b[0;36m<module>\u001b[1;34m\u001b[0m\n\u001b[0;32m      1\u001b[0m \u001b[0mmatematika\u001b[0m \u001b[1;33m=\u001b[0m \u001b[1;33m(\u001b[0m\u001b[1;34m\"Beta\"\u001b[0m\u001b[1;33m,\u001b[0m \u001b[1;34m\"Alpha\"\u001b[0m\u001b[1;33m,\u001b[0m\u001b[1;34m\"Kalkulus\"\u001b[0m\u001b[1;33m,\u001b[0m\u001b[1;34m\"Theta\"\u001b[0m\u001b[1;33m,\u001b[0m\u001b[1;34m\"Delta\"\u001b[0m\u001b[1;33m)\u001b[0m\u001b[1;33m\u001b[0m\u001b[1;33m\u001b[0m\u001b[0m\n\u001b[1;32m----> 2\u001b[1;33m \u001b[0mmatematika\u001b[0m\u001b[1;33m.\u001b[0m\u001b[0mappend\u001b[0m\u001b[1;33m(\u001b[0m\u001b[1;34m\"Aljabar\"\u001b[0m\u001b[1;33m)\u001b[0m\u001b[1;33m\u001b[0m\u001b[1;33m\u001b[0m\u001b[0m\n\u001b[0m\u001b[0;32m      3\u001b[0m \u001b[0mmatematika\u001b[0m\u001b[1;33m.\u001b[0m\u001b[0mremove\u001b[0m\u001b[1;33m(\u001b[0m\u001b[1;34m\"Beta\"\u001b[0m\u001b[1;33m)\u001b[0m\u001b[1;33m\u001b[0m\u001b[1;33m\u001b[0m\u001b[0m\n",
      "\u001b[1;31mAttributeError\u001b[0m: 'tuple' object has no attribute 'append'"
     ]
    }
   ],
   "source": [
    "#LATIHAN 8 \n",
    "\n",
    "#dilakukannya pendeklarasian tuple berserta anggotanya\n",
    "matematika = (\"Beta\", \"Alpha\",\"Kalkulus\",\"Theta\",\"Delta\")\n",
    "matematika.append(\"Aljabar\")\n",
    "\n",
    "#seperti definisi tuple dimana tuple merupakan sebuah kumpulan data yang berbentuk list namun tidak dapat diubah setelah dijalankan\n",
    "#karena definisi diataslah maka kode append, remove, del, ataupun kode penggantian anggota\n",
    "#ketika dijalankan akan menjadi sebuah eror karena data tuple tida menerima perubahan setelah dijalankan.\n"
   ]
  },
  {
   "cell_type": "code",
   "execution_count": 28,
   "id": "1b37a491",
   "metadata": {},
   "outputs": [
    {
     "name": "stdout",
     "output_type": "stream",
     "text": [
      "Tuple baru : \n",
      "('A', 'L', 'G', 'O', 'R', 'I', 'T', 'M', 'A', ' ', 'D', 'A', 'N', ' ', 'S', 'T', 'R', 'U', 'K', 'T', 'U', 'R', ' ', 'D', 'A', 'T', 'A')\n"
     ]
    }
   ],
   "source": [
    "#LATIHAN 9\n",
    "\n",
    "#pada latihan kali ini saya akan mencoba mengubah sebuah kalimat menjadi sebuah tuple\n",
    "#dimana anggota anggota tuplenya merupakan semua huruf pembentuknya beserta spasinya\n",
    "#dapat menggunakan format : print(tuple(kumpulan data yang ingin diubah menjadi tuple))\n",
    "\n",
    "print(\"Tuple baru : \")\n",
    "print(tuple(\"ALGORITMA DAN STRUKTUR DATA\"))\n",
    "\n",
    "#outputnya berupa kumpulan anggota yang telah dipisahkan dari satu sama yang lain dan menjadi bagian dari tuplenya."
   ]
  },
  {
   "cell_type": "markdown",
   "id": "2e9f8048",
   "metadata": {},
   "source": [
    "# 5.18 DICTIONARIES\n",
    "Dictionaries pada python merupakan kumpulan data data yang menjadi kunci pengoprasian data, dan pada dictionaries dapat menyimpan lebih dari 1 elemen. "
   ]
  },
  {
   "cell_type": "code",
   "execution_count": 31,
   "id": "4ccde1fc",
   "metadata": {},
   "outputs": [
    {
     "name": "stdout",
     "output_type": "stream",
     "text": [
      "Data dictionaries dimana data utamanya berupa integer : \n",
      "{1: 'Beta', 2: 'Theta', 3: 'Delta'}\n",
      "\n",
      "Berikut contoh dictionaries campuran : \n",
      "{'nama': 'hera', 1: [22, 8, 54, 10, 27]}\n"
     ]
    }
   ],
   "source": [
    "#lATIHAN 1\n",
    "\n",
    "#pada latihan pertama ini kita akan mencoba membuat sebuah dictionaries\n",
    "#penulisan dictionaries biasanya menggunakan format : nama dictionaries = {data utama 1: data sekunder 1, data utama 2: data sekunder 2}\n",
    "#penulisan data mulai dari data pertama hingga data ke n\n",
    "\n",
    "#data yang merupakan tipe data string diharapkan menggunakan tanda petik, baik data utama maupun data sekunder\n",
    "\n",
    "integer = {1:\"Beta\", 2:\"Theta\", 3:\"Delta\"}\n",
    "print(\"Data dictionaries dimana data utamanya berupa integer : \")\n",
    "print(integer)\n",
    "#pada contoh diatas ini data utamanya merupakan data bertipe integer sedangkan data sekundernya merupakan data bertipe string.\n",
    "\n",
    "print(\"\")    #pencetakan spasi\n",
    "\n",
    "campuran = {\n",
    "    \"nama\" : \"hera\",\n",
    "    1 : [22,8,54,10,27]\n",
    "}\n",
    "print('Berikut contoh dictionaries campuran : ')\n",
    "print(campuran)\n",
    "\n",
    "#sedangkan pada kode kedua ini data utama yang diinput ada 2 tipe yaitu string dan integer\n",
    "#lalu untuk data sekundernya terdapat 2 yaitu data berupa string dan data berupa list integer\n",
    "# dimana pada penulisan list menggunakan kurung yang berbeda dari kurung yang digunakan pada dictionaries\n",
    "#penulisan dictionaries juga dapat ditulis kesamping atau ditulis kebawah tidak ada bedanya pada output yang akan dikeluarkan."
   ]
  },
  {
   "cell_type": "code",
   "execution_count": 34,
   "id": "08a2dd56",
   "metadata": {},
   "outputs": [
    {
     "name": "stdout",
     "output_type": "stream",
     "text": [
      "Berikut merupakan contoh dictionaries kosong :\n",
      "{}\n",
      "\n",
      "Output dari penulisan kode berbeda pertama : \n",
      "{1: 'Beta', 2: 'Theta', 3: 'Delta'}\n",
      "\n",
      "Output dari penulisan kode berbeda kedua : \n",
      "{1: 'Beta', 2: 'Theta', 3: 'Delta'}\n"
     ]
    }
   ],
   "source": [
    "#LATIHAN 2\n",
    "\n",
    "kosong = {}\n",
    "print ('Berikut merupakan contoh dictionaries kosong :')\n",
    "print(kosong)\n",
    "\n",
    "#dictionaries kosong merupakan dictionaris tanpa data utama maupun data sekunder.\n",
    "\n",
    "print(\"\")   #pencetakan spasi\n",
    "\n",
    "penulisan_2 = dict ({1:\"Beta\", 2:\"Theta\", 3:\"Delta\"})\n",
    "print('Output dari penulisan kode berbeda pertama : ')\n",
    "print (penulisan_2)\n",
    "\n",
    "#tak hanya penulisan seperti pada Latihan 1, penulisan dictionaries dapat juga dituliskan seperti ini\n",
    "#dimana pada penulisan kali ini menggunakan kode dict sebelum pengiinputan data dan penulisan ini menggunakan ()\n",
    "\n",
    "print(\"\")   #pencetakan spasi\n",
    "\n",
    "penulisan_3 = dict ([(1,\"Beta\"), (2,\"Theta\"), (3,\"Delta\")])\n",
    "print('Output dari penulisan kode berbeda kedua : ')\n",
    "print (penulisan_3)\n",
    "\n",
    "#pada penulisan kali ini cukup rumit dimana ada 2 tanda kurung pada data yang diinput \n",
    "#lalu untuk membedakan data pertama dan kedua digunakannya tanda kurung lagi\n",
    "#namun untuk memisahkan data utama dan sekunder menggunakan tanda koma bukan tanda (:)\n",
    "#dan tetap menggunakan kode dict didepannya\n",
    "\n",
    "#output yang dikeluarkan tetaplah sama\n",
    "#jadi adanya perbedaan penulisan ini sesuai denga kenyamanan pengguna untuk menjalankan kode yang dirasa nyaman."
   ]
  },
  {
   "cell_type": "code",
   "execution_count": 36,
   "id": "215c11ff",
   "metadata": {},
   "outputs": [
    {
     "name": "stdout",
     "output_type": "stream",
     "text": [
      "Berikut contoh dictionaries 2 dimensi : \n",
      "{'Jurusan': 'Matematika', 'Fakultas': 'MIPA', 'Universitas': 'Udayana', 'Lambang': {1: 'Beta', 2: 'Theta', 3: 'Delta'}}\n"
     ]
    }
   ],
   "source": [
    "#LATIHAN 3\n",
    "\n",
    "data_2dimensi =  {\"Jurusan\":\"Matematika\", \"Fakultas\":\"MIPA\",\"Universitas\":\"Udayana\",\n",
    "             \"Lambang\":{1:\"Beta\", 2:\"Theta\", 3:\"Delta\"}}\n",
    "print(\"Berikut contoh dictionaries 2 dimensi : \")\n",
    "print(data_2dimensi)\n",
    "\n",
    "#jika pada latihan pertama ada data sekunder yang merupakan list\n",
    "#pada latihan kali ini ada data dictionaries dalam sebuah data dictionaries \n",
    "#maka akandihasilkannya data 2 dimensi seperti dibawah ini.\n"
   ]
  },
  {
   "cell_type": "code",
   "execution_count": 47,
   "id": "80d3b728",
   "metadata": {
    "scrolled": true
   },
   "outputs": [
    {
     "name": "stdout",
     "output_type": "stream",
     "text": [
      "dictionaries kosong :  {}\n",
      "\n",
      "Dictionarise kosong yang telah ditambahkan elemen didalamnya : {0: 'Ayu', 2: 'Hera', 3: 27}\n",
      "\n",
      "Dictionaries yang telah ditambahkan elemen list didalamnnya :  {0: 'Ayu', 2: 'Hera', 3: 27, 'List': (22, 8, 54, 10)}\n",
      "\n",
      "dictionaries yang ditambahkan dictionaries didalamnya :  {0: 'Ayu', 2: 'Hera', 3: 27, 'List': (22, 8, 54, 10), 5: {'Lambang': {1: 'Beta', 2: 'Theta', 3: 'Delta'}}}\n",
      "\n",
      "dictionaries yang data sekundernya telah diganti akan menjadi :  {0: 'Ayu', 2: 'Herayanti', 3: 27, 'List': (22, 8, 54, 10), 5: {'Lambang': {1: 'Beta', 2: 'Theta', 3: 'Delta'}}}\n"
     ]
    }
   ],
   "source": [
    "#LATIHAN 4 \n",
    "\n",
    "#kode pada dictionaris dapat diubah sesuai kebutuan pengguna\n",
    "\n",
    "kosong = {} #base dictionaries yang akan diubah-ubah\n",
    "print('dictionaries kosong : ',kosong)\n",
    "\n",
    "print(\"\")\n",
    "\n",
    "#Penambahan data pada base dictionaries yang telah diberikan diawal\n",
    "#penambahan data menggunakan format : nama dictionaries [data utama]= data sekunder\n",
    "kosong[0]=\"Ayu\"\n",
    "kosong[2]= 'Hera'\n",
    "kosong[3]= 27\n",
    "\n",
    "#pencetakan base dictionaries yang telah ditambahakan elemen didalamnya\n",
    "print('Dictionarise kosong yang telah ditambahkan elemen didalamnya :', kosong)\n",
    "\n",
    "print(\"\")\n",
    "\n",
    "#Penambahan List pada dictionaries yang diolah \n",
    "#pertama akan dideklarasikan list data yang akan ditambahkan\n",
    "#dengan format : nama dictionaries [nama list/data utama]= list\n",
    "kosong[\"List\"] = 22,8,54,10\n",
    "\n",
    "#pencetakan dictionaries yang telah di tambahkan data list didalamnya.\n",
    "print('Dictionaries yang telah ditambahkan elemen list didalamnnya : ',kosong)\n",
    "\n",
    "print(\"\")\n",
    "\n",
    "#Penambahan dictionaries kedalam sebuah dictionaries menjadi sebuah dictionaries 2 dimensi\n",
    "#dengan format : nama dictionaries [data utama]={dictionaries}\n",
    "kosong[5]= {\"Lambang\":{1:\"Beta\", 2:\"Theta\", 3:\"Delta\"}}\n",
    "\n",
    "#pencetakan dictionaries 2 dimensi.\n",
    "print('dictionaries yang ditambahkan dictionaries didalamnya : ',kosong)\n",
    "\n",
    "print(\"\")\n",
    "\n",
    "#Pada dictionaries kita juga dapat mengubah sebuah data yang telah diinput dan dijalankan di awal\n",
    "#dengan format : nama dictionaries [nama data utama]= data sekunder yang ingin diubah\n",
    "kosong[2]=\"Herayanti\"\n",
    "\n",
    "#pncetakan output hasil pengubahan data.\n",
    "print('dictionaries yang data sekundernya telah diganti akan menjadi : ',kosong)"
   ]
  },
  {
   "cell_type": "code",
   "execution_count": 51,
   "id": "97b5ca86",
   "metadata": {},
   "outputs": [
    {
     "name": "stdout",
     "output_type": "stream",
     "text": [
      "pencarian data menggunakan kode get: \n",
      "None\n",
      "Matematika\n",
      "\n",
      "Berikut contoh jika langsung menggunakan data utama : \n",
      "{1: 'Beta', 2: 'Theta', 3: 'Delta'}\n"
     ]
    }
   ],
   "source": [
    "#LATIHAN 5 \n",
    "\n",
    "#Pencarian salah satu data pada dictionaries yang mengandung banyak anggota didalmnya\n",
    "#terkessan sulit jika harus mencari satu persatu, maka dapat digunkan beberapa kode untuk memudahkan pengerjaan\n",
    "\n",
    "#pertama dilakukan pendeklarasian dictionaries\n",
    "data_2dimensi =  {\"Jurusan\":\"Matematika\", \"Fakultas\":\"MIPA\",\"Universitas\":\"Udayana\",\n",
    "             \"Lambang\":{1:\"Beta\", 2:\"Theta\", 3:\"Delta\"}}\n",
    "\n",
    "#Penggunakan kode \"get\" untuk pencarian\n",
    "#dengan format : print(nama dictionaries.get(data utama yang ingin dicari))\n",
    "print('pencarian data menggunakan kode get: ')\n",
    "\n",
    "print(data_2dimensi.get(\"MIPA\"))\n",
    "#jika yang dimasukan pada kolom pencarian ialah data sekunder maka output yang akan dikeluarkan berupa \"none\"\n",
    "#karena tak ada data utama yang bernama seperti itu\n",
    "\n",
    "print(data_2dimensi.get(\"Jurusan\"))\n",
    "#tetap jika yang dimasukkan sebuah data utama maka yang akan keluar adalah data sekundernya.\n",
    "\n",
    "print('')\n",
    "\n",
    "#Penggunaan data utama langsung untuk mencari\n",
    "#dengan format : print(nama dictionaries[data utama])\n",
    "print('Berikut contoh jika langsung menggunakan data utama : ')\n",
    "print(data_2dimensi[\"Lambang\"])"
   ]
  },
  {
   "cell_type": "code",
   "execution_count": 54,
   "id": "74eee00b",
   "metadata": {},
   "outputs": [
    {
     "name": "stdout",
     "output_type": "stream",
     "text": [
      "dictionaries sebelum salah satunya dihapus :  {0: 'Ayu', 2: 'Herayanti', 3: 27, 'List': (22, 8, 54, 10), 5: {'Lambang': {1: 'Beta', 2: 'Theta', 3: 'Delta'}}}\n",
      "\n",
      "dictionaries setelah salah satu datanya dihapus : \n",
      "{0: 'Ayu', 2: 'Herayanti', 3: 27, 'List': (22, 8, 54, 10)}\n"
     ]
    }
   ],
   "source": [
    "#LATIHAN 6\n",
    "\n",
    "#Latihan ini menjelaskan mengenai data pada dictionaries yang dapat dihapus\n",
    "#kode penghapusan menggunakan format : det(nama dictionaries[data utama])\n",
    "\n",
    "#dilakukannya pendeklarasian dictionaries\n",
    "dic_campuran = {0: 'Ayu', 2: 'Herayanti', 3: 27, 'List': (22, 8, 54, 10), 5: {'Lambang': {1: 'Beta', 2: 'Theta', 3: 'Delta'}}}\n",
    "\n",
    "print('dictionaries sebelum salah satunya dihapus : ', dic_campuran)\n",
    "\n",
    "print('')\n",
    "\n",
    "#kode penghapusan dimasukkan\n",
    "del(dic_campuran[5])\n",
    "\n",
    "#dicetaknya dictionaries yang salah satu datanya telah dihapus\n",
    "print('dictionaries setelah salah satu datanya dihapus : ')\n",
    "print(dic_campuran)"
   ]
  },
  {
   "cell_type": "markdown",
   "id": "459ce9aa",
   "metadata": {},
   "source": [
    "# 5.19 FUNGSI DALAM PYTHON\n",
    "Fungsi adalah blok kode yang hanya berjalan saat dipanggil. Pengguna dapat meneruskan data, yang dikenal sebagai parameter, ke dalam suatu fungsi. Suatu fungsi dapat mengembalikan data sebagai hasilnya."
   ]
  },
  {
   "cell_type": "code",
   "execution_count": 61,
   "id": "c8874961",
   "metadata": {},
   "outputs": [
    {
     "name": "stdout",
     "output_type": "stream",
     "text": [
      "output fungsi setelah dilakukan pemanggilan : \n",
      "Matematika menyenangkan bukan?\n"
     ]
    }
   ],
   "source": [
    "#LATIHAN 1 \n",
    "\n",
    "#berikut kita akan mengenal kode def dimana kode ini berfungsi untuk mendeklarasikan sebuah fungsi\n",
    "#format pendeklarasian adalah : def nama fungsi(nilai yang akan diproses):\n",
    "#seperti pendeklarasian fungsi dibawah ini \n",
    "\n",
    "def jargon():\n",
    "    print('Matematika menyenangkan bukan?')\n",
    "    \n",
    "    \n",
    "#setelah dilakukan pendeklarasian selanjutnya akan dilakukan pemanggilan\n",
    "#pemanggilan merupakan cara untuk menggunakan kode fungsi yang telah dideklarasikan\n",
    "\n",
    "print('output fungsi setelah dilakukan pemanggilan : ') \n",
    "jargon()"
   ]
  },
  {
   "cell_type": "markdown",
   "id": "58e55fbb",
   "metadata": {},
   "source": [
    "## 5.19.1 Tugas Fungsi Pada Python"
   ]
  },
  {
   "cell_type": "code",
   "execution_count": 70,
   "id": "2f99a1c9",
   "metadata": {},
   "outputs": [
    {
     "name": "stdout",
     "output_type": "stream",
     "text": [
      "Hasil penjumlahan :  35\n"
     ]
    }
   ],
   "source": [
    "#LATIHAN 2 \n",
    "\n",
    "#sebuah kode fungsi juga dapat dijalankan jika terdapat 2 nilai yang dimasukkan pada pendeklarasian\n",
    "def Penjumlahan (bil1,bil2):\n",
    "    Jumlah = bil1 + bil2\n",
    "    print('Hasil penjumlahan : ', Jumlah)\n",
    "    \n",
    "#setelah dideklarasikan fungsinya maka dapat dilakukan pemanggilan terhadap fungsi tersebut\n",
    "Penjumlahan(27,8)\n",
    "#maka akan keluar output berupa hasil penjumlahan"
   ]
  },
  {
   "cell_type": "code",
   "execution_count": 74,
   "id": "763621e2",
   "metadata": {},
   "outputs": [
    {
     "name": "stdout",
     "output_type": "stream",
     "text": [
      "Hasil penjumlahan :  35\n"
     ]
    }
   ],
   "source": [
    "#LATIHAN 3\n",
    "\n",
    "#jika pada latihan 2 menggunakan perintah print, pada latihan ini akan ditambahkan menggunakan perintah return\n",
    " \n",
    "def Penjumlahan (bil1,bil2):\n",
    "    Jumlah = bil1 + bil2\n",
    "    return Jumlah\n",
    "    \n",
    "#setelah dideklarasikan fungsinya maka dapat dilakukan pemanggilan terhadap fungsi tersebut\n",
    "hasil = Penjumlahan(27,8)\n",
    "print('Hasil penjumlahan : ', hasil)\n",
    "#maka akan keluar output berupa hasil penjumlahan\n",
    "#pada kode return ini cukup rumit pada pendeklarasian karena harus menginisialkan variabel baru"
   ]
  },
  {
   "cell_type": "code",
   "execution_count": 77,
   "id": "1d509330",
   "metadata": {},
   "outputs": [
    {
     "name": "stdout",
     "output_type": "stream",
     "text": [
      "15\n",
      "25\n",
      "60\n"
     ]
    }
   ],
   "source": [
    "#LATIHAN 4 \n",
    "\n",
    "#berikut contoh lain dari fungsi menggunakan kode return\n",
    "\n",
    "#pendeklarasian fungsi\n",
    "def perkalian(x):\n",
    "    return 5 * x\n",
    "\n",
    "#setelah itu dilakukan pemanggilan untuk menjalankan fungsi diatas.\n",
    "print(perkalian(3))\n",
    "print(perkalian(5))\n",
    "print(perkalian(12))"
   ]
  },
  {
   "cell_type": "markdown",
   "id": "8f0677f4",
   "metadata": {},
   "source": [
    "# 5.20 NUMPY\n",
    "NumPy (Numerical Python) adalah pustaka Python open source yang digunakan di hampir setiap bidang sains dan teknik. Ini adalah standar universal untuk bekerja dengan data numerik di Python, dan merupakan inti dari ekosistem ilmiah Python dan PyData."
   ]
  },
  {
   "cell_type": "markdown",
   "id": "b5dc97d3",
   "metadata": {},
   "source": [
    "## 5.20.1 Perintah Dasar Pada Numpy\n",
    "Perintah dasar numpy seperti memanggil, menghitung index serta mengetahui dimensinya."
   ]
  },
  {
   "cell_type": "code",
   "execution_count": 85,
   "id": "fbd5c277",
   "metadata": {
    "scrolled": true
   },
   "outputs": [
    {
     "name": "stdout",
     "output_type": "stream",
     "text": [
      "[ 2  4  6  8 10]\n",
      "\n",
      "[[10 12 14 16]\n",
      " [18 20 22 24]]\n",
      "\n",
      "[[[ 0  2  4  6]\n",
      "  [ 8 10 12 14]]\n",
      "\n",
      " [[16 18 20 22]\n",
      "  [24 26 28 30]]\n",
      "\n",
      " [[32 34 36 38]\n",
      "  [40 42 44 46]]]\n"
     ]
    }
   ],
   "source": [
    "#LATIHAN 1\n",
    "\n",
    "#format pembuatan numpy ialah : nama numpy= np.bentuk data yg diinginkan(data yng akan di proses)\n",
    "\n",
    "#Numpy dimana data didalamnya bertipe list biasa\n",
    "\n",
    "list_sederhana = np.array([2,4,6,8,10])\n",
    "print(list_sederhana)\n",
    "\n",
    "print('')\n",
    "\n",
    "#Numpy dengan data 2 dimensi\n",
    "#ketika data yang diinput dua dimensi maka output yang dikeluarkan adalah berupa susunan 2 data\n",
    "\n",
    "data_2dimensi = np.array([[10,12,14,16], [18,20,22,24]])\n",
    "print(data_2dimensi)\n",
    "\n",
    "print('')\n",
    "\n",
    "#Numpy yang mangandung lebih dari 2 list\n",
    "\n",
    "banyak_data= np.array([[[0,2,4,6],[8,10,12,14]],[[16,18,20,22],[24,26,28,30]], [[32,34,36,38],[40,42,44,46]]])\n",
    "print(banyak_data)\n",
    "\n",
    "#outut yang akan dikluarkan berupa matriks untuk setiap listnya."
   ]
  },
  {
   "cell_type": "code",
   "execution_count": 96,
   "id": "444a00ee",
   "metadata": {},
   "outputs": [
    {
     "data": {
      "text/plain": [
       "1"
      ]
     },
     "execution_count": 96,
     "metadata": {},
     "output_type": "execute_result"
    }
   ],
   "source": [
    "#LATIHAN 2\n",
    "\n",
    "#kode perintah ndim bertujuan menghitung banyaknya list yang ada pada sebuah kode numpy\n",
    "list_sederhana.ndim"
   ]
  },
  {
   "cell_type": "code",
   "execution_count": 97,
   "id": "b925caf7",
   "metadata": {},
   "outputs": [
    {
     "data": {
      "text/plain": [
       "2"
      ]
     },
     "execution_count": 97,
     "metadata": {},
     "output_type": "execute_result"
    }
   ],
   "source": [
    "data_2dimensi.ndim"
   ]
  },
  {
   "cell_type": "code",
   "execution_count": 98,
   "id": "b70e498d",
   "metadata": {
    "scrolled": true
   },
   "outputs": [
    {
     "data": {
      "text/plain": [
       "3"
      ]
     },
     "execution_count": 98,
     "metadata": {},
     "output_type": "execute_result"
    }
   ],
   "source": [
    "banyak_data.ndim"
   ]
  },
  {
   "cell_type": "code",
   "execution_count": 99,
   "id": "a475478f",
   "metadata": {},
   "outputs": [
    {
     "data": {
      "text/plain": [
       "(5,)"
      ]
     },
     "execution_count": 99,
     "metadata": {},
     "output_type": "execute_result"
    }
   ],
   "source": [
    "#sedangkan pada kode shape bertujuan menghitung kolom, baris, serta list yang ada pada sebuah numpy\n",
    "\n",
    "list_sederhana.shape"
   ]
  },
  {
   "cell_type": "code",
   "execution_count": 100,
   "id": "64586afa",
   "metadata": {
    "scrolled": true
   },
   "outputs": [
    {
     "data": {
      "text/plain": [
       "(2, 4)"
      ]
     },
     "execution_count": 100,
     "metadata": {},
     "output_type": "execute_result"
    }
   ],
   "source": [
    "data_2dimensi.shape"
   ]
  },
  {
   "cell_type": "code",
   "execution_count": 101,
   "id": "6f091f0e",
   "metadata": {},
   "outputs": [
    {
     "data": {
      "text/plain": [
       "(3, 2, 4)"
      ]
     },
     "execution_count": 101,
     "metadata": {},
     "output_type": "execute_result"
    }
   ],
   "source": [
    "banyak_data.shape"
   ]
  },
  {
   "cell_type": "markdown",
   "id": "bba15b7f",
   "metadata": {},
   "source": [
    "## 5.20.2 Memanggil Anggota, Kolom, Dan Baris Dengan Numpy"
   ]
  },
  {
   "cell_type": "code",
   "execution_count": 93,
   "id": "46285f8c",
   "metadata": {},
   "outputs": [
    {
     "name": "stdout",
     "output_type": "stream",
     "text": [
      "[[10 12 14 16]\n",
      " [18 20 22 24]]\n"
     ]
    },
    {
     "data": {
      "text/plain": [
       "22"
      ]
     },
     "execution_count": 93,
     "metadata": {},
     "output_type": "execute_result"
    }
   ],
   "source": [
    "#LATIHAN 3\n",
    "\n",
    "#Jika ingin memanggil salah satu anggota pada numpy dapat menggunakan kode ini\n",
    "#dengan format : nama numpy[urutan baris, urutan kolom]\n",
    "\n",
    "#pertama dilakukan pendeklarasian data numpy\n",
    "data_2dimensi = np.array([[10,12,14,16], [18,20,22,24]])\n",
    "\n",
    "\n",
    "print(data_2dimensi) \n",
    "\n",
    "#setelah itu dapat dilakukan pemanggilan satu anggota dengan kode\n",
    "data_2dimensi[1,2]\n",
    "\n",
    "#setelah dijalankan dapat kita lihat outputnya akan berupa sebuah anggota."
   ]
  },
  {
   "cell_type": "code",
   "execution_count": 94,
   "id": "8edef5c1",
   "metadata": {},
   "outputs": [
    {
     "data": {
      "text/plain": [
       "array([18, 20, 22, 24])"
      ]
     },
     "execution_count": 94,
     "metadata": {},
     "output_type": "execute_result"
    }
   ],
   "source": [
    "#jika pada contoh sebelumnya dilakukan pencetakan 1 anggota \n",
    "#sekaran dilakukan pencetakan satu baris anggota \n",
    "#dengan format : nama numpy[nomor baris,:]\n",
    "\n",
    "data_2dimensi[1,:]\n",
    "#maka output yang akan dikeluarkan ialah seluruh anggota pada baris 1"
   ]
  },
  {
   "cell_type": "code",
   "execution_count": 95,
   "id": "b846f834",
   "metadata": {},
   "outputs": [
    {
     "data": {
      "text/plain": [
       "array([12, 20])"
      ]
     },
     "execution_count": 95,
     "metadata": {},
     "output_type": "execute_result"
    }
   ],
   "source": [
    "#pada contoh ini akan mencetak angota-anggota yang ada pada kolom yang diinginkan\n",
    "#dengan format kode : nama numpy[:,nomor kolom]\n",
    "\n",
    "data_2dimensi[:,1]\n",
    "#output yang akan dikeluarkan ialah anggota anggota yang ada pada kolom 1"
   ]
  },
  {
   "cell_type": "code",
   "execution_count": 106,
   "id": "69f1a1ba",
   "metadata": {},
   "outputs": [
    {
     "data": {
      "text/plain": [
       "array([14])"
      ]
     },
     "execution_count": 106,
     "metadata": {},
     "output_type": "execute_result"
    }
   ],
   "source": [
    "#pada contoh ini akan mencetak data dengan baris, kolom dan list\n",
    "data_2dimensi[0,2:3]"
   ]
  },
  {
   "cell_type": "code",
   "execution_count": 107,
   "id": "7243d2eb",
   "metadata": {},
   "outputs": [
    {
     "data": {
      "text/plain": [
       "array([20])"
      ]
     },
     "execution_count": 107,
     "metadata": {},
     "output_type": "execute_result"
    }
   ],
   "source": [
    "data_2dimensi[1,1:2:3]"
   ]
  },
  {
   "cell_type": "code",
   "execution_count": 109,
   "id": "97a282bd",
   "metadata": {},
   "outputs": [
    {
     "name": "stdout",
     "output_type": "stream",
     "text": [
      "data setelah diganti: \n",
      "[[10 12 14 16]\n",
      " [18 20 33 24]]\n"
     ]
    }
   ],
   "source": [
    "#LATIHAN 4\n",
    "\n",
    "#ada juga kode penggantian data pada numpy\n",
    "#dijalankan dengan format kode : nama numpy[baris,kolom] = data pengganti\n",
    "\n",
    "data_2dimensi[1,2]= 33\n",
    "print('data setelah diganti: ')\n",
    "print(data_2dimensi)"
   ]
  },
  {
   "cell_type": "markdown",
   "id": "90f88661",
   "metadata": {},
   "source": [
    "## 5.20.3 Matriks Pada Numpy"
   ]
  },
  {
   "cell_type": "code",
   "execution_count": 110,
   "id": "9739318e",
   "metadata": {},
   "outputs": [
    {
     "data": {
      "text/plain": [
       "array([[1., 1., 1.],\n",
       "       [1., 1., 1.],\n",
       "       [1., 1., 1.],\n",
       "       [1., 1., 1.],\n",
       "       [1., 1., 1.],\n",
       "       [1., 1., 1.]])"
      ]
     },
     "execution_count": 110,
     "metadata": {},
     "output_type": "execute_result"
    }
   ],
   "source": [
    "#LATIHAN 5 \n",
    "\n",
    "np.ones((6,3))\n",
    "\n",
    "#kode ini berfungsi untuk mencetak sebuah data yaitu data 1 menjadi sebuah matriks pengulangan\n",
    "#dimana akan diulang sebanyak 6 baris dan 3 kolom\n",
    "#dengan format : np.ones((baris,kolom))"
   ]
  },
  {
   "cell_type": "code",
   "execution_count": 112,
   "id": "49596747",
   "metadata": {},
   "outputs": [
    {
     "data": {
      "text/plain": [
       "array([[[0., 0.],\n",
       "        [0., 0.],\n",
       "        [0., 0.],\n",
       "        [0., 0.]],\n",
       "\n",
       "       [[0., 0.],\n",
       "        [0., 0.],\n",
       "        [0., 0.],\n",
       "        [0., 0.]],\n",
       "\n",
       "       [[0., 0.],\n",
       "        [0., 0.],\n",
       "        [0., 0.],\n",
       "        [0., 0.]]])"
      ]
     },
     "execution_count": 112,
     "metadata": {},
     "output_type": "execute_result"
    }
   ],
   "source": [
    "#tak hanya data 1 tapi juga dapat dicetak data 0 menjadi sebuah matriks pengulangan\n",
    "\n",
    "np.zeros((3,4,2))\n",
    "\n",
    "#data 0 akan dicetak menjadi 3 matris yang berisikan 4 baris dan 2 kolom"
   ]
  },
  {
   "cell_type": "code",
   "execution_count": 113,
   "id": "398f0ffa",
   "metadata": {},
   "outputs": [
    {
     "data": {
      "text/plain": [
       "array([[8, 8, 8, 8],\n",
       "       [8, 8, 8, 8]])"
      ]
     },
     "execution_count": 113,
     "metadata": {},
     "output_type": "execute_result"
    }
   ],
   "source": [
    "#jika data yang ingin dicetak secara berulan bukanlah 1 atau 0 maka dapet menggunakan kode dibawah ini\n",
    "\n",
    "np.full((2,4),8)\n",
    "\n",
    "#maka output yang akan dikeluarkan berupa matriks pengulangan angka 8 \n",
    "#dalam 2 baris dimana masing masing baris berisikan 4 kolom"
   ]
  },
  {
   "cell_type": "code",
   "execution_count": 115,
   "id": "83da46c9",
   "metadata": {},
   "outputs": [
    {
     "data": {
      "text/plain": [
       "array([[0.69493027, 0.22818233],\n",
       "       [0.3273321 , 0.57397941],\n",
       "       [0.05596303, 0.65131328],\n",
       "       [0.49370136, 0.05810356],\n",
       "       [0.2283854 , 0.01642847]])"
      ]
     },
     "execution_count": 115,
     "metadata": {},
     "output_type": "execute_result"
    }
   ],
   "source": [
    "np.random.rand(5,2)\n",
    "\n",
    "#jika kode diatas ini adalah kode dimana datanya ditentukan oleh sistem \n",
    "#dikarenakan kita menginput kata random yang berarti bebas sebanyak 5 baris dan masing-masing 2 kolom"
   ]
  },
  {
   "cell_type": "code",
   "execution_count": 116,
   "id": "05013c32",
   "metadata": {
    "scrolled": true
   },
   "outputs": [
    {
     "data": {
      "text/plain": [
       "array([[20,  8, 16],\n",
       "       [16, 23, 21],\n",
       "       [16,  8, 12],\n",
       "       [21, 11, 21],\n",
       "       [12,  9, 21],\n",
       "       [ 7, 11,  9],\n",
       "       [15, 20, 13],\n",
       "       [ 6, 15,  6],\n",
       "       [ 5, 13,  9]])"
      ]
     },
     "execution_count": 116,
     "metadata": {},
     "output_type": "execute_result"
    }
   ],
   "source": [
    "np.random.randint(5,25 , size=(9,3))\n",
    "\n",
    "#sedangkan pada kode ini sistem akan diperintahkan memilih datanya secara sebarang\n",
    "#namun diberikan batas dalam pemilihan \n",
    "#dan akan dibuat sebuah matrik dengan 9 baris 3 kolom pada setiap baris"
   ]
  },
  {
   "cell_type": "code",
   "execution_count": 117,
   "id": "e0737222",
   "metadata": {},
   "outputs": [
    {
     "name": "stdout",
     "output_type": "stream",
     "text": [
      "Matriks identitas dengan ordo 4x4 :\n",
      "[[1. 0. 0. 0.]\n",
      " [0. 1. 0. 0.]\n",
      " [0. 0. 1. 0.]\n",
      " [0. 0. 0. 1.]]\n"
     ]
    }
   ],
   "source": [
    "#ada juga pembuatan matriks identitas seperi dibawah ini\n",
    "\n",
    "identitas = np.identity(4)  #Angka 4 disini menunjukan ordo yang akan dicetak yaitu 4x4\n",
    "\n",
    "print('Matriks identitas dengan ordo 4x4 :')\n",
    "print(identitas)"
   ]
  },
  {
   "cell_type": "markdown",
   "id": "ade31d98",
   "metadata": {},
   "source": [
    "## 5.20.4 Copy Pada Numpy"
   ]
  },
  {
   "cell_type": "code",
   "execution_count": 118,
   "id": "0083a76f",
   "metadata": {},
   "outputs": [
    {
     "name": "stdout",
     "output_type": "stream",
     "text": [
      "[2 3 5 7 9]\n"
     ]
    }
   ],
   "source": [
    "#LATIHAN 6\n",
    "\n",
    "#pendeklarasian data numpy\n",
    "List_sederhana = np.array([2,3,5,7,9])\n",
    "print(List_sederhana)"
   ]
  },
  {
   "cell_type": "code",
   "execution_count": 119,
   "id": "187f70f9",
   "metadata": {},
   "outputs": [
    {
     "name": "stdout",
     "output_type": "stream",
     "text": [
      "[2 3 5 7 9]\n"
     ]
    }
   ],
   "source": [
    "numpy_sederhana = List_sederhana\n",
    "print(numpy_sederhana)\n",
    "\n",
    "#karnadiawal telah dideklarasikan bahwa numpy sederhana sama dengan list sederhana\n",
    "#maka itu berarti isi nya pun sama"
   ]
  },
  {
   "cell_type": "code",
   "execution_count": 121,
   "id": "3988ae29",
   "metadata": {},
   "outputs": [
    {
     "name": "stdout",
     "output_type": "stream",
     "text": [
      "berikut numpy b yang telah dirubah : [2 3 5 1 9]\n",
      "\n",
      "dan ini adalah numpy a yang ikut terubah:  [2 3 5 1 9]\n"
     ]
    }
   ],
   "source": [
    "#numpy a =numpy b\n",
    "#jadi jika salah satu anggota pada numpy b diubah maka numpy a juga ikut terubah\n",
    "\n",
    "numpy_sederhana[3]=1\n",
    "print ('berikut numpy b yang telah dirubah :', numpy_sederhana)\n",
    "\n",
    "print('')\n",
    "\n",
    "print('dan ini adalah numpy a yang ikut terubah: ',List_sederhana)"
   ]
  },
  {
   "cell_type": "code",
   "execution_count": 122,
   "id": "bb3b6e47",
   "metadata": {},
   "outputs": [
    {
     "name": "stdout",
     "output_type": "stream",
     "text": [
      "numpy hasil copy :  [2 3 5 1 9]\n"
     ]
    }
   ],
   "source": [
    "numpy_copy=numpy_sederhana.copy()\n",
    "print('numpy hasil copy : ',numpy_copy)\n",
    "\n",
    "#diatas adalah contoh kode jika ingin men-copy sebuah numpy\n",
    "#menjadi numpy yang memiliki nama yang berbeda."
   ]
  },
  {
   "cell_type": "code",
   "execution_count": 124,
   "id": "3cd2f817",
   "metadata": {},
   "outputs": [
    {
     "name": "stdout",
     "output_type": "stream",
     "text": [
      "hasil numpy yg dicopy lalu diubah : [2 3 5 0 9]\n",
      "\n",
      "numpy asal :  [2 3 5 1 9]\n"
     ]
    }
   ],
   "source": [
    "#jika ingin mengubah numpy yang telah dicopy tidak akan merubah numpy asal\n",
    "numpy_copy[3]=0\n",
    "\n",
    "print('hasil numpy yg dicopy lalu diubah :', numpy_copy)\n",
    "\n",
    "print('')\n",
    "\n",
    "print('numpy asal : ',numpy_sederhana)\n",
    "#output numpy asal akan tetap sama seperti awal"
   ]
  },
  {
   "cell_type": "markdown",
   "id": "227714f4",
   "metadata": {},
   "source": [
    "## 5.20.5 Operasi Matematika Pada Numpy"
   ]
  },
  {
   "cell_type": "code",
   "execution_count": 130,
   "id": "9af8e1c6",
   "metadata": {},
   "outputs": [
    {
     "data": {
      "text/plain": [
       "array([ 4,  5,  7,  3, 11])"
      ]
     },
     "execution_count": 130,
     "metadata": {},
     "output_type": "execute_result"
    }
   ],
   "source": [
    "#LATIHAN 7\n",
    "\n",
    "#pertama dilakukan pendeklarasian numpy\n",
    "numpy_asal = np.array([2,3,5,1,9])\n",
    "\n",
    "#operasi penjumlahan\n",
    "numpy_asal+2\n",
    "#pada operasi ini semua data pada numpy akan ditambah 2"
   ]
  },
  {
   "cell_type": "code",
   "execution_count": 132,
   "id": "55d25b45",
   "metadata": {},
   "outputs": [
    {
     "data": {
      "text/plain": [
       "array([ 6,  9, 15,  3, 27])"
      ]
     },
     "execution_count": 132,
     "metadata": {},
     "output_type": "execute_result"
    }
   ],
   "source": [
    "#operasi perkalian \n",
    "numpy_asal*3\n",
    "#pada operasi ini setiap data pada numpy akan dikalikan 3 begitu seterusnya untuk oprasi yang lainnya"
   ]
  },
  {
   "cell_type": "code",
   "execution_count": 133,
   "id": "e9daedcf",
   "metadata": {},
   "outputs": [],
   "source": [
    "numpy_lawan = np.array([12,13,14,15,16])"
   ]
  },
  {
   "cell_type": "code",
   "execution_count": 135,
   "id": "8bfdf823",
   "metadata": {},
   "outputs": [
    {
     "data": {
      "text/plain": [
       "array([14, 16, 19, 16, 25])"
      ]
     },
     "execution_count": 135,
     "metadata": {},
     "output_type": "execute_result"
    }
   ],
   "source": [
    "#operasi numpy 1 dengan numpy yg lainnya\n",
    "numpy_asal+numpy_lawan\n",
    "#maka setiap data pada numpy akan saling dioperasikann sesuai dengan urutan mereka.\n",
    "#hal ini berlaku juga terhadap semua tanda operasi matematika."
   ]
  },
  {
   "cell_type": "code",
   "execution_count": 136,
   "id": "8958daed",
   "metadata": {},
   "outputs": [
    {
     "data": {
      "text/plain": [
       "array([-0.41614684, -0.9899925 ,  0.28366219,  0.54030231, -0.91113026])"
      ]
     },
     "execution_count": 136,
     "metadata": {},
     "output_type": "execute_result"
    }
   ],
   "source": [
    "#operasi cos\n",
    "np.cos(numpy_asal)\n",
    "#maka akan di operasikan semua data dengan cos, hal ini juga berlaku pada sin, tan, sinh, cosh, tanh, sqrt"
   ]
  },
  {
   "cell_type": "markdown",
   "id": "716ce332",
   "metadata": {},
   "source": [
    "## 5.20.6  Perkalian Matriks Pada Numpy"
   ]
  },
  {
   "cell_type": "code",
   "execution_count": 137,
   "id": "df6e6315",
   "metadata": {},
   "outputs": [
    {
     "name": "stdout",
     "output_type": "stream",
     "text": [
      "[[ 0  2  4  6]\n",
      " [10 12 14 16]]\n"
     ]
    }
   ],
   "source": [
    "#kali ini ada operasi perkalian matriks \n",
    "#pada operasi perkalian ini membutuhkan numpy 2 dimensi\n",
    "\n",
    "numpy_asal = np.array([[0,2,4,6],[10,12,14,16]])\n",
    "print(numpy_asal)"
   ]
  },
  {
   "cell_type": "code",
   "execution_count": 138,
   "id": "875d1e51",
   "metadata": {},
   "outputs": [
    {
     "name": "stdout",
     "output_type": "stream",
     "text": [
      "[[18 20 22 24]\n",
      " [26 28 30 32]]\n"
     ]
    }
   ],
   "source": [
    "numpy_lawan = np.array([[18,20,22,24], [26,28,30,32]])\n",
    "print(numpy_lawan)"
   ]
  },
  {
   "cell_type": "code",
   "execution_count": 139,
   "id": "56be1ce1",
   "metadata": {},
   "outputs": [
    {
     "name": "stdout",
     "output_type": "stream",
     "text": [
      "[[  0  40  88 144]\n",
      " [260 336 420 512]]\n"
     ]
    }
   ],
   "source": [
    "hasil_kali = numpy_asal*numpy_lawan\n",
    "print(hasil_kali)\n",
    "#perkalian matrik pada numpy akan merhasil jika sama sama memiliki ordo yang sama"
   ]
  },
  {
   "cell_type": "code",
   "execution_count": 141,
   "id": "c09f4f4f",
   "metadata": {
    "scrolled": true
   },
   "outputs": [
    {
     "name": "stdout",
     "output_type": "stream",
     "text": [
      "[[ 2  4]\n",
      " [ 6  8]\n",
      " [10 12]\n",
      " [14 16]]\n"
     ]
    }
   ],
   "source": [
    "numpy_lain = np.array([[2,4],[6,8],[10,12],[14,16]])\n",
    "print(numpy_lain)"
   ]
  },
  {
   "cell_type": "code",
   "execution_count": 142,
   "id": "1c24ef7b",
   "metadata": {},
   "outputs": [
    {
     "name": "stdout",
     "output_type": "stream",
     "text": [
      "[[136 160]\n",
      " [456 560]]\n"
     ]
    }
   ],
   "source": [
    "x = np.matmul(numpy_asal,numpy_lain)\n",
    "print(x)"
   ]
  },
  {
   "cell_type": "markdown",
   "id": "4d6c9244",
   "metadata": {},
   "source": [
    "## 5.20.7 Min, Max, Dan Sum Pada Numpy"
   ]
  },
  {
   "cell_type": "code",
   "execution_count": 143,
   "id": "b8d66d5a",
   "metadata": {
    "scrolled": true
   },
   "outputs": [
    {
     "name": "stdout",
     "output_type": "stream",
     "text": [
      "[[ 0  2  4  6]\n",
      " [10 12 14 16]\n",
      " [18 20 22 24]]\n"
     ]
    }
   ],
   "source": [
    "numpy_a = np.array([[0,2,4,6],\n",
    "              [10,12,14,16],\n",
    "              [18,20,22,24]])\n",
    "print(numpy_a)"
   ]
  },
  {
   "cell_type": "code",
   "execution_count": 146,
   "id": "3e9ed3f2",
   "metadata": {},
   "outputs": [
    {
     "name": "stdout",
     "output_type": "stream",
     "text": [
      "0\n"
     ]
    }
   ],
   "source": [
    "numpy_b = np.min(numpy_a)\n",
    "print(numpy_b)"
   ]
  },
  {
   "cell_type": "code",
   "execution_count": 147,
   "id": "3e453bcf",
   "metadata": {},
   "outputs": [
    {
     "name": "stdout",
     "output_type": "stream",
     "text": [
      "[0 2 4 6]\n"
     ]
    }
   ],
   "source": [
    "numpy_c = np.min(numpy_a,axis =0)\n",
    "print (numpy_c)\n",
    "#baris terkecil"
   ]
  },
  {
   "cell_type": "code",
   "execution_count": 148,
   "id": "30c5a3eb",
   "metadata": {},
   "outputs": [
    {
     "name": "stdout",
     "output_type": "stream",
     "text": [
      "[ 0 10 18]\n"
     ]
    }
   ],
   "source": [
    "numpy_d = np.min(numpy_a,axis =1)\n",
    "print(numpy_d)\n",
    "#pencarian kolom terkecil"
   ]
  },
  {
   "cell_type": "code",
   "execution_count": 149,
   "id": "d2401a82",
   "metadata": {},
   "outputs": [
    {
     "name": "stdout",
     "output_type": "stream",
     "text": [
      "24\n"
     ]
    }
   ],
   "source": [
    "numpy_e = np.max(numpy_a)\n",
    "print(numpy_e)\n",
    "#nilai maksimal dari numpy a"
   ]
  },
  {
   "cell_type": "code",
   "execution_count": 151,
   "id": "f4b32ea5",
   "metadata": {},
   "outputs": [
    {
     "name": "stdout",
     "output_type": "stream",
     "text": [
      "[18 20 22 24]\n"
     ]
    }
   ],
   "source": [
    "numpy_f = np.max(numpy_a,axis=0)\n",
    "print(numpy_f)\n",
    "#ini adalah baris terbesar"
   ]
  },
  {
   "cell_type": "code",
   "execution_count": 152,
   "id": "ecac01b5",
   "metadata": {},
   "outputs": [
    {
     "name": "stdout",
     "output_type": "stream",
     "text": [
      "[ 6 16 24]\n"
     ]
    }
   ],
   "source": [
    "numpy_g = np.max(numpy_a,axis=1)\n",
    "print(numpy_g)\n",
    "#ini adalah kolom terbesar"
   ]
  },
  {
   "cell_type": "code",
   "execution_count": 153,
   "id": "bdd21f2f",
   "metadata": {},
   "outputs": [
    {
     "name": "stdout",
     "output_type": "stream",
     "text": [
      "148\n"
     ]
    }
   ],
   "source": [
    "numpy_h = np.sum(numpy_a)\n",
    "print (numpy_h)"
   ]
  },
  {
   "cell_type": "code",
   "execution_count": 155,
   "id": "d7e292f4",
   "metadata": {},
   "outputs": [
    {
     "name": "stdout",
     "output_type": "stream",
     "text": [
      "[28 34 40 46]\n"
     ]
    }
   ],
   "source": [
    "numpy_h = np.sum(numpy_a,axis=0)\n",
    "print (numpy_h)"
   ]
  },
  {
   "cell_type": "code",
   "execution_count": 156,
   "id": "daff4737",
   "metadata": {},
   "outputs": [
    {
     "name": "stdout",
     "output_type": "stream",
     "text": [
      "[12 52 84]\n"
     ]
    }
   ],
   "source": [
    "numpy_i = np.sum(numpy_a,axis=1)\n",
    "print (numpy_i)"
   ]
  }
 ],
 "metadata": {
  "kernelspec": {
   "display_name": "Python 3 (ipykernel)",
   "language": "python",
   "name": "python3"
  },
  "language_info": {
   "codemirror_mode": {
    "name": "ipython",
    "version": 3
   },
   "file_extension": ".py",
   "mimetype": "text/x-python",
   "name": "python",
   "nbconvert_exporter": "python",
   "pygments_lexer": "ipython3",
   "version": "3.9.13"
  }
 },
 "nbformat": 4,
 "nbformat_minor": 5
}
