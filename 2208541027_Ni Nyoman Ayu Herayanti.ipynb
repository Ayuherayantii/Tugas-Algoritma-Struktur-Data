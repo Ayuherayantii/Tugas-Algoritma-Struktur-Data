{
 "cells": [
  {
   "cell_type": "code",
   "execution_count": 1,
   "id": "d0107bec",
   "metadata": {},
   "outputs": [
    {
     "name": "stdout",
     "output_type": "stream",
     "text": [
      "Nama saya Ayu Herayanti\n",
      "Saya Mahasiswa Universitas Udayana\n"
     ]
    }
   ],
   "source": [
    "print ('Nama saya Ayu Herayanti')\n",
    "print(\"Saya Mahasiswa Universitas Udayana\")\n",
    "#pada perintah print kita bisa menambahkan spasi, karena dengan ada atau tidaknya spasi tidak akan membuat perubahan pada output\n",
    "#nah pada tanda yang digunakan setelah tanda kurung yaitu tada petik.\n",
    "#penggunaan tanda petik difungsikan untuk menyatakan kalimat apa yang harus di cetak pada output."
   ]
  },
  {
   "cell_type": "code",
   "execution_count": 2,
   "id": "76f45585",
   "metadata": {},
   "outputs": [
    {
     "ename": "SyntaxError",
     "evalue": "EOL while scanning string literal (2244544454.py, line 1)",
     "output_type": "error",
     "traceback": [
      "\u001b[1;36m  File \u001b[1;32m\"C:\\Users\\User\\AppData\\Local\\Temp\\ipykernel_10756\\2244544454.py\"\u001b[1;36m, line \u001b[1;32m1\u001b[0m\n\u001b[1;33m    print ('Berumur 19 tahun\")\u001b[0m\n\u001b[1;37m                              ^\u001b[0m\n\u001b[1;31mSyntaxError\u001b[0m\u001b[1;31m:\u001b[0m EOL while scanning string literal\n"
     ]
    }
   ],
   "source": [
    "print ('Berumur 19 tahun\")\n",
    "#ketika tanda petik yang digunakan di awal dan diakhir kalimat berbeda maka akan menjadi eror."
   ]
  },
  {
   "cell_type": "code",
   "execution_count": 3,
   "id": "65eac5ea",
   "metadata": {},
   "outputs": [
    {
     "ename": "SyntaxError",
     "evalue": "invalid syntax (734494731.py, line 1)",
     "output_type": "error",
     "traceback": [
      "\u001b[1;36m  File \u001b[1;32m\"C:\\Users\\User\\AppData\\Local\\Temp\\ipykernel_10756\\734494731.py\"\u001b[1;36m, line \u001b[1;32m1\u001b[0m\n\u001b[1;33m    print('I can't solve this problem')\u001b[0m\n\u001b[1;37m                 ^\u001b[0m\n\u001b[1;31mSyntaxError\u001b[0m\u001b[1;31m:\u001b[0m invalid syntax\n"
     ]
    }
   ],
   "source": [
    "print('I can't solve this problem')\n",
    "#ketika sebuah kalimat yang akan dicetak memiliki sebuah tanda petik baik tanda petik satu maupun tanda petik dua\n",
    "#pastikan tanda petik yang ada dalam kalimat berbeda dengan tanda petik yang akan digunakan pada awal dan akhir kalimat\n",
    "#karena hal itu mempengaruhi perintah yang akan dijalankan oleh sistem"
   ]
  },
  {
   "cell_type": "code",
   "execution_count": 4,
   "id": "f8327126",
   "metadata": {},
   "outputs": [
    {
     "name": "stdout",
     "output_type": "stream",
     "text": [
      "she think she is \"SPECIAL\"?\n"
     ]
    }
   ],
   "source": [
    "print('she think she is \"SPECIAL\"?')\n",
    "#ini adalah contoh yang benar dalam penggunaan tanda petik \n",
    "#ketika ada tanda petik yang merupakan bagian dari kalimat yg akan di cetak.\n",
    "#tanda baca akan terbaca oleh sistem ketika di letakkan didalam tanda petik."
   ]
  },
  {
   "cell_type": "code",
   "execution_count": 5,
   "id": "1b481815",
   "metadata": {},
   "outputs": [
    {
     "ename": "SyntaxError",
     "evalue": "invalid syntax (41467326.py, line 1)",
     "output_type": "error",
     "traceback": [
      "\u001b[1;36m  File \u001b[1;32m\"C:\\Users\\User\\AppData\\Local\\Temp\\ipykernel_10756\\41467326.py\"\u001b[1;36m, line \u001b[1;32m1\u001b[0m\n\u001b[1;33m    jumlah saudara = 3\u001b[0m\n\u001b[1;37m           ^\u001b[0m\n\u001b[1;31mSyntaxError\u001b[0m\u001b[1;31m:\u001b[0m invalid syntax\n"
     ]
    }
   ],
   "source": [
    "jumlah saudara = 3\n",
    "print (jumlah saudara)"
   ]
  },
  {
   "cell_type": "code",
   "execution_count": 6,
   "id": "57a7e12a",
   "metadata": {},
   "outputs": [
    {
     "name": "stdout",
     "output_type": "stream",
     "text": [
      "3\n"
     ]
    }
   ],
   "source": [
    "#pada code sebelumnya eror karena pada kalimat jumlah saudara terdapat spasi diantaranya\n",
    "#seharusnya spasi tersebut diganti menjadi garis bawah untuk menghubungkan antar kata seperti berikut\n",
    "jumlah_saudara_saya = 3\n",
    "print (jumlah_saudara_saya)"
   ]
  },
  {
   "cell_type": "code",
   "execution_count": 7,
   "id": "8ec7dfc2",
   "metadata": {},
   "outputs": [
    {
     "ename": "SyntaxError",
     "evalue": "invalid syntax (3116928183.py, line 1)",
     "output_type": "error",
     "traceback": [
      "\u001b[1;36m  File \u001b[1;32m\"C:\\Users\\User\\AppData\\Local\\Temp\\ipykernel_10756\\3116928183.py\"\u001b[1;36m, line \u001b[1;32m1\u001b[0m\n\u001b[1;33m    Nama = Ni Nyoman Ayu Herayanti\u001b[0m\n\u001b[1;37m              ^\u001b[0m\n\u001b[1;31mSyntaxError\u001b[0m\u001b[1;31m:\u001b[0m invalid syntax\n"
     ]
    }
   ],
   "source": [
    "Nama = Ni Nyoman Ayu Herayanti\n",
    "Matakuliah = Algoritma dan Struktur Data\n",
    "print (\"Mahasiswa atas nama \"+ Nama + \" telah menyelesaikan tugas matakuliah \"+ Matakuliah)\n",
    "#tanda \"+\" pada perintah print diatas bertujuan untuk menyambung kata agar menjadi output berupa kalimat"
   ]
  },
  {
   "cell_type": "code",
   "execution_count": 8,
   "id": "f928cbef",
   "metadata": {},
   "outputs": [
    {
     "name": "stdout",
     "output_type": "stream",
     "text": [
      "Mahasiswa atas nama Ni Nyoman Ayu Herayanti telah menyelesaikan tugas matakuliah Algoritma dan Struktur Data\n"
     ]
    }
   ],
   "source": [
    "#eror diatas disebabkan oleh pada saaat memasukan data nama dan mata kuliah tidak menambahkan kurung dan petik diawal dan akhir kalimat\n",
    "Nama = (\"Ni Nyoman Ayu Herayanti\")\n",
    "Matakuliah = (\"Algoritma dan Struktur Data\")\n",
    "print (\"Mahasiswa atas nama \"+ Nama + \" telah menyelesaikan tugas matakuliah \"+ Matakuliah)"
   ]
  },
  {
   "cell_type": "code",
   "execution_count": 9,
   "id": "427314d8",
   "metadata": {},
   "outputs": [
    {
     "name": "stdout",
     "output_type": "stream",
     "text": [
      "Mahasiswa atas nama Ni Nyoman Ayu Herayanti telah menyelesaikan tugas matakuliah Algoritma dan Struktur Data\n"
     ]
    }
   ],
   "source": [
    "#penulisan code diatas juga dapat dipermudah dengan menggunakan Formatted String\n",
    "Nama = (\"Ni Nyoman Ayu Herayanti\")\n",
    "Matakuliah = (\"Algoritma dan Struktur Data\")\n",
    "print (f\"Mahasiswa atas nama {Nama} telah menyelesaikan tugas matakuliah {Matakuliah}\")\n",
    "#penulisan dengan metode formatted string dilakukan pada perintah print diatas"
   ]
  },
  {
   "cell_type": "code",
   "execution_count": 10,
   "id": "d11a4bbe",
   "metadata": {},
   "outputs": [
    {
     "name": "stdout",
     "output_type": "stream",
     "text": [
      "9960000\n"
     ]
    }
   ],
   "source": [
    "#pada perintah print kita juga dapat menyelesaikan sebuah operasi seperti berikut\n",
    "Harga_buku = 120000\n",
    "Banyak_anak_yg_membeli = 83\n",
    "print (Harga_buku*Banyak_anak_yg_membeli)\n",
    "#operasi yang dapat dijalankan juga bukan hanya perkalian namun juga bisa pertambahan pengurangan dan pembagian"
   ]
  },
  {
   "cell_type": "code",
   "execution_count": 11,
   "id": "d02775dd",
   "metadata": {},
   "outputs": [
    {
     "ename": "TypeError",
     "evalue": "can only concatenate str (not \"float\") to str",
     "output_type": "error",
     "traceback": [
      "\u001b[1;31m---------------------------------------------------------------------------\u001b[0m",
      "\u001b[1;31mTypeError\u001b[0m                                 Traceback (most recent call last)",
      "\u001b[1;32m~\\AppData\\Local\\Temp\\ipykernel_10756\\1708516962.py\u001b[0m in \u001b[0;36m<module>\u001b[1;34m\u001b[0m\n\u001b[0;32m      1\u001b[0m \u001b[0mHarga_Pertalite\u001b[0m \u001b[1;33m=\u001b[0m \u001b[1;36m10000\u001b[0m\u001b[1;33m\u001b[0m\u001b[1;33m\u001b[0m\u001b[0m\n\u001b[0;32m      2\u001b[0m \u001b[0mUang_di_dompet\u001b[0m \u001b[1;33m=\u001b[0m \u001b[1;36m356000\u001b[0m\u001b[1;33m\u001b[0m\u001b[1;33m\u001b[0m\u001b[0m\n\u001b[1;32m----> 3\u001b[1;33m \u001b[0mprint\u001b[0m \u001b[1;33m(\u001b[0m\u001b[1;34m\"Kamu membeli pertalite sebanyak : \"\u001b[0m\u001b[1;33m+\u001b[0m \u001b[0mUang_di_dompet\u001b[0m\u001b[1;33m/\u001b[0m\u001b[0mHarga_Pertalite\u001b[0m \u001b[1;33m+\u001b[0m\u001b[1;34m\"liter\"\u001b[0m\u001b[1;33m)\u001b[0m\u001b[1;33m\u001b[0m\u001b[1;33m\u001b[0m\u001b[0m\n\u001b[0m\u001b[0;32m      4\u001b[0m \u001b[1;31m#ketika memerintahkan sistem untuk mencetak kalimat dan mengoprasikan bilangan secara langsung\u001b[0m\u001b[1;33m\u001b[0m\u001b[1;33m\u001b[0m\u001b[0m\n\u001b[0;32m      5\u001b[0m \u001b[1;31m#sistem akan menjadi bingung apa yang harus dikerjakan terlebih dahulu.\u001b[0m\u001b[1;33m\u001b[0m\u001b[1;33m\u001b[0m\u001b[0m\n",
      "\u001b[1;31mTypeError\u001b[0m: can only concatenate str (not \"float\") to str"
     ]
    }
   ],
   "source": [
    "Harga_Pertalite = 10000\n",
    "Uang_di_dompet = 356000\n",
    "print (\"Kamu membeli pertalite sebanyak : \"+ Uang_di_dompet/Harga_Pertalite +\"liter\") \n",
    "#ketika memerintahkan sistem untuk mencetak kalimat dan mengoprasikan bilangan secara langsung\n",
    "#sistem akan menjadi bingung apa yang harus dikerjakan terlebih dahulu."
   ]
  },
  {
   "cell_type": "code",
   "execution_count": 12,
   "id": "8c14228a",
   "metadata": {},
   "outputs": [
    {
     "name": "stdout",
     "output_type": "stream",
     "text": [
      "Kamu membeli pertalite sebanyak : \n",
      "35.6\n",
      "liter\n"
     ]
    }
   ],
   "source": [
    "Harga_Pertalite = 10000\n",
    "Uang_di_dompet = 356000\n",
    "print (\"Kamu membeli pertalite sebanyak : \")\n",
    "print (Uang_di_dompet/Harga_Pertalite) \n",
    "print (\"liter\")\n",
    "#jika tetap ingin hanya menggunakan perintah \"print\" untuk mencetak perintah seperti ini\n",
    "#dapat dibedakan atau diperjelas apa yg harus dikerjakan sistem terlebih dahulu."
   ]
  },
  {
   "cell_type": "code",
   "execution_count": 13,
   "id": "5972f56a",
   "metadata": {},
   "outputs": [
    {
     "name": "stdout",
     "output_type": "stream",
     "text": [
      "Nama lengkap : Ni Nyoman Ayu Herayanti\n",
      "Fakultas : MIPA\n",
      "Jurusan : Matematika\n",
      "NIM akhir : 027\n",
      "Ni Nyoman Ayu HerayantiMIPAMatematika027\n"
     ]
    }
   ],
   "source": [
    "#selain print ada juga perintah input, cara kerjanya seperti ini:\n",
    "Nama = input (\"Nama lengkap : \")\n",
    "Fakultas = input (\"Fakultas : \")\n",
    "Jurusan = input (\"Jurusan : \")\n",
    "NIM = input (\"NIM akhir : \")\n",
    "#setelah ada data yang diinput maka harus ada output yang dikeluarkan melalui perintah print\n",
    "print (Nama + Fakultas + Jurusan + NIM)\n",
    "#tanda \"+\" diatas bertujuan untuk menyambungkan data menjadi suatu kalimat"
   ]
  },
  {
   "cell_type": "code",
   "execution_count": 15,
   "id": "54b877af",
   "metadata": {
    "scrolled": true
   },
   "outputs": [
    {
     "name": "stdout",
     "output_type": "stream",
     "text": [
      "Nama lengkap : Ni Nyoman Ayu Herayanti\n",
      "Fakultas : MIPA\n",
      "Jurusan : Matematika\n",
      "NIM akhir : 027\n",
      "Dengan Mahasiswa yang bernama Ni Nyoman Ayu Herayanti yang berkuliah di Fakultas MIPA dengan Jurusan Matematika dan NIM akhir 027 dinyatakan lulus dengan Predikat Terpuji\n"
     ]
    }
   ],
   "source": [
    "#untuk memperbaiki output diatas agar menjadi lebih baik dapat ditambahkan spasi dalam menghubungkan data yang dimasukkan\n",
    "#tak hanya spasi yang dapat dimasukkan kedalam rangkaian data tersebut namun juga bisa memasukan kalimat sebagai pelengkap\n",
    "Nama = input (\"Nama lengkap : \")\n",
    "Fakultas = input (\"Fakultas : \")\n",
    "Jurusan = input (\"Jurusan : \")\n",
    "NIM = input (\"NIM akhir : \")\n",
    "print (\"Dengan Mahasiswa yang bernama\" + \" \" + Nama +\" yang berkuliah di Fakultas \"+ Fakultas +\" dengan Jurusan \" + Jurusan +\" dan NIM akhir \" + NIM + \" dinyatakan lulus dengan Predikat Terpuji\")\n",
    "#tanda petik tanpa dengan spasi diantaranya dapat dibaca oleh sistem menjadi spasi antar kalimat tambahan dengan data \n",
    "#ataupun juga bisa spasi ditambahkan setelah menulis kalimat tambahan"
   ]
  },
  {
   "cell_type": "code",
   "execution_count": 16,
   "id": "fa2bb61f",
   "metadata": {},
   "outputs": [
    {
     "name": "stdout",
     "output_type": "stream",
     "text": [
      "Nama lengkap : Ni Nyoman Ayu Herayanti\n",
      "Fakultas : MIPA\n",
      "Jurusan : Matematika\n",
      "NIM akhir : 027\n",
      "Ni Nyoman Ayu Herayanti MIPA Matematika 027\n"
     ]
    }
   ],
   "source": [
    "Nama = input (\"Nama lengkap : \")\n",
    "Fakultas = input (\"Fakultas : \")\n",
    "Jurusan = input (\"Jurusan : \")\n",
    "NIM = input (\"NIM akhir : \")\n",
    "print (f\"{Nama} {Fakultas} {Jurusan} {NIM}\")\n",
    "#pada perintah print yang sebelumnya terdapat perintah input pun dapat menggunakan Formatted String untuk memudahkan penulisan."
   ]
  },
  {
   "cell_type": "code",
   "execution_count": 17,
   "id": "af2c17df",
   "metadata": {},
   "outputs": [
    {
     "name": "stdout",
     "output_type": "stream",
     "text": [
      "what is ur name ? Hera\n",
      "you know what Hera you always do your best, and i am so proud of u <3\n"
     ]
    }
   ],
   "source": [
    "#selain spasi dan kalimat tambahan tapi kita juga bisa memasukan tanda baca atau pun angka\n",
    "#dalam sebuah kalimat yg akan melengkapi data asal di letakkan didalam tanda petik agar terbaca oleh sistem\n",
    "Nama = input (\"what is ur name ? \")\n",
    "print (\"you know what \" + Nama + \" you always do your best, and i am so proud of u <3\")"
   ]
  },
  {
   "cell_type": "code",
   "execution_count": 18,
   "id": "84de8fb2",
   "metadata": {},
   "outputs": [
    {
     "name": "stdout",
     "output_type": "stream",
     "text": [
      "what is ur name ? Hera\n",
      "you know what  Hera you always do your best, and i am so proud of u <3\n"
     ]
    }
   ],
   "source": [
    "#Formatted String untuk code diatas\n",
    "Nama = input (\"what is ur name ? \")\n",
    "print (f\"you know what  {Nama} you always do your best, and i am so proud of u <3\")"
   ]
  },
  {
   "cell_type": "code",
   "execution_count": 19,
   "id": "66b71bf2",
   "metadata": {
    "scrolled": true
   },
   "outputs": [
    {
     "name": "stdout",
     "output_type": "stream",
     "text": [
      "Berapa uang kuliah yang diberikan ? 5000000\n",
      "Berapa gaji parrtime yang diperoleh per 6 bulan ? 3000000\n",
      "Sisa Saldo Kamu : 3800000\n"
     ]
    }
   ],
   "source": [
    "Uang_kuliah = input(\"Berapa uang kuliah yang diberikan ? \")\n",
    "Gaji_parttime = input(\"Berapa gaji parrtime yang diperoleh per 6 bulan ? \")\n",
    "UKT = 4200000\n",
    "Sisa_Uang = int(Uang_kuliah)+int(Gaji_parttime)-int(UKT)\n",
    "print (\"Sisa Saldo Kamu : \" + str(Sisa_Uang))\n",
    "#pengoprasian data dengan pendeklarasian type data"
   ]
  },
  {
   "cell_type": "code",
   "execution_count": 20,
   "id": "7aebcd76",
   "metadata": {},
   "outputs": [
    {
     "name": "stdout",
     "output_type": "stream",
     "text": [
      "Berapa uang kuliah yang diberikan ? 200000\n"
     ]
    },
    {
     "data": {
      "text/plain": [
       "str"
      ]
     },
     "execution_count": 20,
     "metadata": {},
     "output_type": "execute_result"
    }
   ],
   "source": [
    "#ini code untuk mengecek type suatu data\n",
    "Uang_kuliah = input(\"Berapa uang kuliah yang diberikan ? \")\n",
    "UKT = 4200000\n",
    "type (Uang_kuliah)"
   ]
  },
  {
   "cell_type": "code",
   "execution_count": 21,
   "id": "90721ef8",
   "metadata": {},
   "outputs": [
    {
     "name": "stdout",
     "output_type": "stream",
     "text": [
      "Berapa uang kuliah yang diberikan ? 30000\n"
     ]
    },
    {
     "data": {
      "text/plain": [
       "int"
      ]
     },
     "execution_count": 21,
     "metadata": {},
     "output_type": "execute_result"
    }
   ],
   "source": [
    "#ini untuk mengecek type data UKT\n",
    "Uang_kuliah = input(\"Berapa uang kuliah yang diberikan ? \")\n",
    "UKT = 4200000\n",
    "type (UKT)"
   ]
  },
  {
   "cell_type": "code",
   "execution_count": 25,
   "id": "31feb11f",
   "metadata": {},
   "outputs": [
    {
     "name": "stdout",
     "output_type": "stream",
     "text": [
      "berapa liter yang ingin dibeli ? 3.5\n",
      "sisa uang didompet : 350000\n",
      "sisa uang kamu : 301350\n"
     ]
    }
   ],
   "source": [
    "Harga_pertamax = 13900\n",
    "pertamax_yg_dibeli = input(\"berapa liter yang ingin dibeli ? \")\n",
    "Uang_didompet = input (\"sisa uang didompet : \")\n",
    "Total_belanja = float(pertamax_yg_dibeli)*13900\n",
    "sisa_uang = int(Uang_didompet) - int(Total_belanja)\n",
    "print (\"sisa uang kamu : \" + str(sisa_uang))"
   ]
  }
 ],
 "metadata": {
  "kernelspec": {
   "display_name": "Python 3 (ipykernel)",
   "language": "python",
   "name": "python3"
  },
  "language_info": {
   "codemirror_mode": {
    "name": "ipython",
    "version": 3
   },
   "file_extension": ".py",
   "mimetype": "text/x-python",
   "name": "python",
   "nbconvert_exporter": "python",
   "pygments_lexer": "ipython3",
   "version": "3.9.13"
  }
 },
 "nbformat": 4,
 "nbformat_minor": 5
}
