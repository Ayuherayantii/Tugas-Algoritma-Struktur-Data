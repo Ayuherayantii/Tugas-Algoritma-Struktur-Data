{
 "cells": [
  {
   "cell_type": "markdown",
   "id": "c5090ced",
   "metadata": {},
   "source": [
    "# Tugas Pertemuan Ketiga\n",
    "Senin, 20 Maret 2023"
   ]
  },
  {
   "cell_type": "markdown",
   "id": "36f6552c",
   "metadata": {},
   "source": [
    "## MARKDOWN\n",
    "Markdown pada python biasanya digunakan user untuk menyematkan teks, markdown juga dapat menjadi pengganti kode (#) pada input di python dikarenakan jika menggunakan markdown kita dapat menuliskan berupa teks panjang tanpa harus khawatir dengan penempatan teksnya ketika sudah di run.\n",
    "\n",
    "Perintah markadown juga berbeda dengan perintah input, perbedaannya terletak diakhir. Jika perintah input akan mengeluarkan hasil berupa output sedangkan pada makrdown tidak ada output yang dikeluarkan hanya saja teks yang dimasukkan akan terlihat dengan jelas. Lalu ada juga perbedaan lain yaitu ketika pada input kita mengetikkan (#) maka akan menjadi teks yang tidak akan diproses oleh sistem sedangkan pada markdown ketika kita mengetikkan (#) maka itu berartikan ukuran teks dibelakang tanda. "
   ]
  },
  {
   "cell_type": "markdown",
   "id": "c5352c1e",
   "metadata": {},
   "source": [
    "## 5.5 STRING INDEX "
   ]
  },
  {
   "cell_type": "markdown",
   "id": "4a329a8b",
   "metadata": {},
   "source": [
    "Pada kode string index ini data berupa string yang dimasukkan akan diurutkan dari data urutan ke 0 hingga data urutan terakhir Sedangkan jika ingin memanggil data terakhir tanpa harus menggitung terlebih dahulu data yang ada dapat memanggil dengan urutan ke -1  untuk data yang paling terakhir begitu juga untuk data yang selanjutnya seperti data terakhir kedua dari belakang dapat dipanggil dengan data dengan urutan ke -2. Takhanya variabel yang dihitung tetap spasi juga dihitung dan termasuk dalam urutan data, karena spasi juga termasuk kedalam data yang diinput untuk diproses"
   ]
  },
  {
   "cell_type": "code",
   "execution_count": 2,
   "id": "6b0e81a2",
   "metadata": {},
   "outputs": [],
   "source": [
    "#CONTOH DATA\n",
    "\n",
    "#langkah pertama dalam menjalankan kode string index adalah mendeklarasikan variabel yang memuat data string didalamnya.\n",
    "\n",
    "data =  \"Jurusan Matematika, Fakultas Matematika dan Ilmu Pengetahuan Alam, Universitas Udayana\"\n",
    "\n",
    "#pada data string yang dinput diatas huruf \"J\" pada Jurusan merupakan data dengan urutan ke 0\n",
    "#dan \"a\" yang terakhir pada Udayana merupakan data dengan urutan ke -1"
   ]
  },
  {
   "cell_type": "code",
   "execution_count": 7,
   "id": "ed7f564a",
   "metadata": {},
   "outputs": [
    {
     "name": "stdout",
     "output_type": "stream",
     "text": [
      "Jurusan Matem\n",
      "rusan Matematika, Fakultas Matematika dan Ilmu Pengetahuan Alam, Universitas Ud\n",
      " Udaya\n"
     ]
    }
   ],
   "source": [
    "#CONTOH PERTAMA\n",
    "\n",
    "#pada data yang diinput diatas dapat dijalankan agar sistem mengingat data apa yang akan diproses\n",
    "#jadi kode perintah dapat dipisah terlebih lagi kode perintah yang akan diinput banyak namun didasari oleh data yang sama\n",
    "\n",
    "print (data[0:13])\n",
    "\n",
    "#perintah print pada metode string index diikuti dengan variabel yg memuat data \n",
    "#lalu diikuti data ke berapa sampai berapa yg akan dicetak\n",
    "#kode perintah diatas memerintahkan sistem untuk mencetak data urutan ke 0 hingga data urutan 13\n",
    "\n",
    "#CONTOH KEDUA\n",
    "\n",
    "print (data[2:-5])\n",
    "\n",
    "#kode perintah diatas memerintahkan pencetakan data dari urutan ke 2 hingga data urutan ke -5\n",
    "#data urutan ke -5 artinya data ke 5 dari akhir.\n",
    "\n",
    "#CONTOH KETIGA\n",
    "\n",
    "#ada juga perintah untuk mencetak data-data di akhir seperti ini\n",
    "\n",
    "print(data[-8:-2])\n",
    "\n",
    "#perintah print akan dapat mengeluarkan output jika dalam memerintahkan diminta dari data yang terkecil ke data besar\n",
    "\n",
    "#jika dipeintahkan print(data[-2:-8]) maka akan menjadi eror karena perintah meminta pencetakan data besar ke kecil"
   ]
  },
  {
   "cell_type": "code",
   "execution_count": 11,
   "id": "68944880",
   "metadata": {
    "scrolled": true
   },
   "outputs": [
    {
     "name": "stdout",
     "output_type": "stream",
     "text": [
      "a\n",
      "Jurusan Matematika, Fakultas Matematika dan Ilmu Pengetahuan Alam, Universitas Udayana\n",
      "usan Matematika, Fakultas Matematika dan Ilmu Pengetahuan Alam, Universitas Udayana\n",
      "Jurusan Matematika, Fakultas Matematika dan Ilmu Pengetahuan Alam, Universitas Uday\n",
      "ua aeaia autsMtmtk a luPneaunAa,UiestsU\n"
     ]
    }
   ],
   "source": [
    "#CONTOH KEEMPAT\n",
    "\n",
    "#perintah print pada string index bukan hanya bertujuan mencetak data dengan jumlah lebih dari 1\n",
    "#namun juga bisa mencetak satu data seperti perintah dibawah ini.\n",
    "\n",
    "print (data[17])\n",
    "\n",
    "#kode ini memerintahkan sistem mencetak data dengan urutan ke 17 pada variabel.\n",
    "\n",
    "#CONTOH KELIMA\n",
    "\n",
    "print (data[:])\n",
    "#data diatas memerintahkan untuk mencetak seluruh data secara berurut\n",
    "\n",
    "#CONTOH KEENAM\n",
    "\n",
    "print (data[3:])\n",
    "print (data[:-3])\n",
    "#kode diatas ini dijalankan untuk mencetak sesuai batas yang diberikan\n",
    "#yg atas dari urutan ke 3 hingga akhir sedangan yg dibawah untuk data dari urutan ke 0 hingga urutan ke 3 terakhir.\n",
    "\n",
    "#CONTOH KETUJUH\n",
    "\n",
    "print(data[3:-5:2])\n",
    "#dari input[3:-5:2] menginformasikan mengenai batas data yang akan dicetak\n",
    "#sedikit berbeda dengan kode kode sebelumnya kode kali ini terdapat 3 syarat\n",
    "# 3 menyatakan data yang akan dicetak dimulai dari data ke 3\n",
    "# -5 menyatakan batas akhir data yg akan dicetak\n",
    "# sedangkan 2 merupakan pola dari data yang akan dicetak jadi data yang akan dicetak \n",
    "#data urutan ke 3 lalu urutan ke 5 lalu ke 7 begitu seterusnya"
   ]
  },
  {
   "cell_type": "markdown",
   "id": "4bf7cc87",
   "metadata": {},
   "source": [
    "## 5.6 STRING METHODS"
   ]
  },
  {
   "cell_type": "markdown",
   "id": "2dc755b2",
   "metadata": {},
   "source": [
    "Jika pada string index merupakan pemberian urutan pada setiap data string yang dimasukkan, tetapi jika di string methods yang akan diolah berupa sejumlah variabel yang terdapat dalam data yang dimasukkan"
   ]
  },
  {
   "cell_type": "code",
   "execution_count": 12,
   "id": "b343360d",
   "metadata": {},
   "outputs": [],
   "source": [
    "#CONTOH DATA\n",
    "\n",
    "tema = \"Matematika merupakan ilmu yang menyenangkan, bukan? \"\n",
    "\n",
    "#sama seperti string index hal yang pertama yang dilakukan adalah mendeklarasikan variabel yang akan di proses oleh sistem. \n",
    "#saat ingin menjalankan data namun perintah perintah yang akan diberikan lebih dari satu\n",
    "#alangkah baiknya menjalankan data terlebih dahulu agar sistem mengingat sistem yang akan dijalankan selanjutnya"
   ]
  },
  {
   "cell_type": "code",
   "execution_count": 24,
   "id": "b8d974da",
   "metadata": {},
   "outputs": [
    {
     "name": "stdout",
     "output_type": "stream",
     "text": [
      "52\n"
     ]
    },
    {
     "data": {
      "text/plain": [
       "21"
      ]
     },
     "execution_count": 24,
     "metadata": {},
     "output_type": "execute_result"
    }
   ],
   "source": [
    "#CONTOH PERTAMA \n",
    "\n",
    "print (len(tema))\n",
    "#perintah len merupakan perintah dimana sistem akan menghitung banyaknya data pada string (tema).\n",
    "\n",
    "#CONTOH KEDUA\n",
    "\n",
    "#jika data yang dimasukkan panjang atau banyak akan mustahil rasanya jika harus mencari 1 data dari sekian banyak data \n",
    "#untuk memudahkan pencarian dapat menggunakan kode dibawah ini\n",
    "\n",
    "tema.find(\"ilmu\")\n",
    "\n",
    "#maka output yang dikeluarkan adalah di urutan keberapa data dimulai.\n",
    "#penggunaan tanda petik pada kode seperti kode berikut : tema.find('ilmu') juga akan mengeluarkan output yang sama\n",
    "\n",
    "#data yang akan dicari seperti \"ilmu\" jika ada pada data ada maka sistem akan memunculkan diurutkan berapa\n",
    "#sedangkan jika yang di cari \"Ilmu\" maka output yang dikeluarkan adalah -1 karena tidak ada \"Ilmu\" pada data yang dimasukan\n",
    "#perbedaannya hanya pada huruf i pada ilmu.\n"
   ]
  },
  {
   "cell_type": "code",
   "execution_count": 28,
   "id": "ea925416",
   "metadata": {},
   "outputs": [
    {
     "data": {
      "text/plain": [
       "'MATEMATIKA MERUPAKAN ILMU YANG MENYENANGKAN, BUKAN? '"
      ]
     },
     "execution_count": 28,
     "metadata": {},
     "output_type": "execute_result"
    }
   ],
   "source": [
    "#CONTOH KETIGA \n",
    "\n",
    "tema.upper()\n",
    "#upper atau uppercase berarti huruf besar\n",
    "#kode ini memerintahkan sistem untuk merubah semua variabel yang terdapat pada data menjadi variabel kapital."
   ]
  },
  {
   "cell_type": "code",
   "execution_count": 27,
   "id": "65c8f4dc",
   "metadata": {},
   "outputs": [
    {
     "data": {
      "text/plain": [
       "'matematika merupakan ilmu yang menyenangkan, bukan? '"
      ]
     },
     "execution_count": 27,
     "metadata": {},
     "output_type": "execute_result"
    }
   ],
   "source": [
    "#CONTOH KEEMPAT\n",
    "\n",
    "tema.lower()\n",
    "#lower atau lowercase berarti huruf kecil\n",
    "#sama seperti kode diatas bedanya kode ini bertujuan untuk mengubah semua data menjadi huruf kecil."
   ]
  },
  {
   "cell_type": "code",
   "execution_count": 29,
   "id": "cba5bdf9",
   "metadata": {},
   "outputs": [
    {
     "data": {
      "text/plain": [
       "'Matematika merupakan ilmu yang mengasyikan, bukan? '"
      ]
     },
     "execution_count": 29,
     "metadata": {},
     "output_type": "execute_result"
    }
   ],
   "source": [
    "#CONTOH KELIMA\n",
    "\n",
    "tema.replace(\"menyenangkan\", \"mengasyikan\")\n",
    "#kode replace diatas memerintahkan sistem untuk mengganti kata \"menyenangkan\" menjadi kata \"mengasyikkan\"\n",
    "#kode ini memudahkan user untuk mengganti data tanpa harus mencarinya terlebih dahulu."
   ]
  },
  {
   "cell_type": "code",
   "execution_count": 32,
   "id": "e8d20252",
   "metadata": {},
   "outputs": [
    {
     "name": "stdout",
     "output_type": "stream",
     "text": [
      "True\n",
      "False\n"
     ]
    }
   ],
   "source": [
    "#CONTOH KEENAM\n",
    "\n",
    "print(\"ilmu yang menyenangkan\"in tema)\n",
    "#perintah print ditambah perintah in akan menunjukan apakah data yang dicari ada di data varibel\n",
    "print('Ilmu yang menyenangkan' in tema)\n",
    "#ketika data yang akan dicari ada pada data yang dimasukkan maka output yang dikeluarkan merupakan true \n",
    "#namun jika data yang dicari tidak ada pada data variabel makan akan mengeluarkan output berupa false"
   ]
  },
  {
   "cell_type": "markdown",
   "id": "7abc3de7",
   "metadata": {},
   "source": [
    "## 5.7 OPERASI MATEMATIKA DI PYTHON"
   ]
  },
  {
   "cell_type": "markdown",
   "id": "a96e6791",
   "metadata": {},
   "source": [
    "Operasi matematika yang sering dilakukan pada kertas dapat dilakukan oleh sistem di python hanya dengan memasukan angka yang akan diproses. Seperti contoh dibawah ini"
   ]
  },
  {
   "cell_type": "code",
   "execution_count": 35,
   "id": "d78d8ff6",
   "metadata": {},
   "outputs": [
    {
     "name": "stdout",
     "output_type": "stream",
     "text": [
      "24\n",
      "17\n",
      "64\n",
      "9.375\n",
      "9\n",
      "3\n",
      "243\n",
      "10\n",
      "2\n"
     ]
    }
   ],
   "source": [
    "#PENJUMLAHAN\n",
    "print (8+16)\n",
    "#ini adalah kode untuk operasi penjumlahan ada python\n",
    "\n",
    "#PENGURANGAN\n",
    "print( 24-7)\n",
    "#jika ini adalah kode untuk menjalankan operasi pengurangan\n",
    "\n",
    "#PERKALIAN\n",
    "print (8*8)\n",
    "#kode untuk operasi perkalian\n",
    "\n",
    "#PEMBAGIAN\n",
    "print (75/8)\n",
    "# ini kode untuk operasi pembagian \n",
    "\n",
    "#PEMBULATAN PEMBAGIAN\n",
    "print (75//8)\n",
    "#sedangkan ini adalah kode untuk operasi pembagian dimana outpunya akan langsung dibulatkan oleh sistem\n",
    "\n",
    "#MODULO\n",
    "print(8%5)\n",
    "#ini adalah kode untuk operasi modulo\n",
    "\n",
    "#PEMANGANGKATAN\n",
    "print(3**5)\n",
    "#tanda ** berarti untuk kode operasi pangkat\n",
    "\n",
    "#AUGMENTED OPERATOR\n",
    "x=5\n",
    "x+=5\n",
    "print(x)\n",
    "#kode ini merupakan kode operasi Augmented operator pada operasi penjumlahan\n",
    "\n",
    "x=5\n",
    "x-=3\n",
    "print(x)\n",
    "#sedangkan ini untuk operasi Augmented operator pada operasi pengurangan\n",
    "#operasi Augmeted operator dapat digunakan untuk semua operasi matematika"
   ]
  },
  {
   "cell_type": "markdown",
   "id": "6d57559b",
   "metadata": {},
   "source": [
    "## 5.8 OPERATOR PERBANDINGAN DI PYTHON"
   ]
  },
  {
   "cell_type": "markdown",
   "id": "ea38dcdb",
   "metadata": {},
   "source": [
    "Pada python tak hanya mengurutkan data maupun melakukan operasi namun pada pyton sistem juga bisa melakukan perbandingan antara data yang satu dengan data yang lainnya. Seperti dibawah ini"
   ]
  },
  {
   "cell_type": "code",
   "execution_count": 38,
   "id": "f52f5e81",
   "metadata": {},
   "outputs": [
    {
     "name": "stdout",
     "output_type": "stream",
     "text": [
      "False\n",
      "True\n",
      "True\n",
      "False\n",
      "True\n",
      "False\n",
      "True\n",
      "False\n",
      "True\n",
      "False\n"
     ]
    }
   ],
   "source": [
    "#LEBIH BESAR\n",
    "x = 3 > 7\n",
    "print (x)\n",
    "#pada kode diatas tanda \">\" diletakkan diantara data yang akan di bandingkan \n",
    "#sedangkan hasil perbandingan di inisialkan dengan x untuk memudahkan pencetakkan hasil pada kode print\n",
    "\n",
    "#LEBIH KECIL\n",
    "x=3<7\n",
    "print(x)\n",
    "#sama seperti kode sebelumnya hanya bedanya hanya pada tanda \"<\"\n",
    "\n",
    "#LEBIH BESAR SAMA DENGAN\n",
    "x = 15>= 15\n",
    "print (x)\n",
    "#lebih besar sama dengan untuk pernyataan benar\n",
    "#kode berikut memiliki tanda yang sama dengan tanda lebih besar hanya saja pembedanya terdapat dalam batas perbandingan\n",
    "\n",
    "x = 15>= 24\n",
    "print (x)\n",
    "#lebih besar sama dengan untuk pernyataan salah\n",
    "#perbedaan yang akan terlihat terdapat pada output\n",
    "\n",
    "#LEBIH KECIL SAMA DENGAN\n",
    "x = 23<=23\n",
    "print(x)\n",
    "#lebih kecil sama dengan untuk pernyataan benar\n",
    "#hasil pada setiap kode tergantung pada input yang dimasukkan dan juga termasuk tanda yang digunakan\n",
    "\n",
    "x = 23<=12\n",
    "print(x)\n",
    "#lebih kecil sama dengan untuk pernyataan salah\n",
    "#kode berikut memiliki tanda yang sama dengan tanda lebih kecil hanya saja pembedanya terdapat dalam batas perbandingan\n",
    "\n",
    "#SAMA DENGAN\n",
    "x=8==8\n",
    "print(x)\n",
    "#a sama dengan b untuk pernyataan benar\n",
    "\n",
    "x=8==5\n",
    "print(x)\n",
    "#a sama dengan b untuk pernyataan salah\n",
    "#kode \"==\" digunakan untuk membandingkan nilai antar data, apakah data data yang diinput memiliki nilai yang sama\n",
    "\n",
    "#TIDAK SAMA DENGAN\n",
    "x = 3!=5\n",
    "print(x)\n",
    "#a TIDAK sama dengan b untk pernyataan benar\n",
    "\n",
    "#a TIDAK sama dengan b untk pernyataan salah\n",
    "x = 3!=3\n",
    "print(x) \n",
    "#kode \"tidak sama dengan\" digunakan untuk membuktikan apakah data yang dimasukkan TIDAK memiliki nilai yang sama"
   ]
  },
  {
   "cell_type": "markdown",
   "id": "dec35280",
   "metadata": {},
   "source": [
    "## 5.9 OPERATOR LOGIKA DI PYTHON"
   ]
  },
  {
   "cell_type": "markdown",
   "id": "7b430d6b",
   "metadata": {},
   "source": [
    "Pada operator logika ini terdapat tiga kode yang dapat dijalankan yaitu kode \"and\", \"or\" dan kode \"not\". Pada kode \"and\" yang mengaruhi output yang akan dikeluarkan adalah nilai benar pada pernyataan yang diinput. Sedangkan jika pada kode \"or\" terjadi kebalikannya yang memengaruhi output yang dikeluarkan sistem ialah nilai salah pada pernyataan yang diinput user. Berbeda dengan kode \"not\" dimana kode ini hanya bertujuan untuk membalikkan nilai kebenaran pada pernyataan yang di input menjadi nilai sebaliknya. Ketiga kode akan diinput pernyataan perbandingan seperti pada operator perbandingan sebelumnya."
   ]
  },
  {
   "cell_type": "code",
   "execution_count": 39,
   "id": "71c495a4",
   "metadata": {},
   "outputs": [],
   "source": [
    "#CONTOH DATA\n",
    "\n",
    "jumlah_kelas_A = 43\n",
    "jumlah_kelas_B = 42\n",
    "#hal pertama adalah medeklarasikan data yang akan diproses\n",
    "#dapat dijalankan terlebih dahulu agar sistem menyimpan data ini pada memori \n",
    "#namun bisa juga meletakkan kode perintah dibawahnya."
   ]
  },
  {
   "cell_type": "code",
   "execution_count": 45,
   "id": "9917ccb3",
   "metadata": {},
   "outputs": [
    {
     "name": "stdout",
     "output_type": "stream",
     "text": [
      "True\n",
      "False\n",
      "False\n",
      "False\n"
     ]
    }
   ],
   "source": [
    "#ketika hanya data yang dijalankan lalu kode perintah yang dijalankan\n",
    "#maka nomor input data akan lebih kecil dari pada nomor input kode perintah\n",
    "\n",
    "#KODE \"AND\" (KONJUNGSI)\n",
    "\n",
    "#untuk pernyataan benar dan benar\n",
    "print(jumlah_kelas_A <45 and jumlah_kelas_B <45)\n",
    "\n",
    "#untuk pernyataan benar dan salah\n",
    "print(jumlah_kelas_A <45 and jumlah_kelas_B <24)\n",
    "\n",
    "#untuk pernyataan salah dan benar\n",
    "print(jumlah_kelas_A <13 and jumlah_kelas_B <45)\n",
    "\n",
    "#untuk pernyataan salah dan salah\n",
    "print(jumlah_kelas_A <25 and jumlah_kelas_B <2)"
   ]
  },
  {
   "cell_type": "markdown",
   "id": "63c80808",
   "metadata": {},
   "source": [
    "KODE \"AND\"\n",
    "\n",
    "Jadi dapat disimpulkan bahwa pada kode perintah \"and\" sistem akan mengeluarkan output berupa \"True\" hanya jika kedua pernyataan yang diinput bernilai benar, namun jika ada salah satu maupun keduanya bernilai salah maka output yang dikeluarkan akan berupa \"False\""
   ]
  },
  {
   "cell_type": "code",
   "execution_count": 50,
   "id": "68604e6e",
   "metadata": {
    "scrolled": true
   },
   "outputs": [
    {
     "name": "stdout",
     "output_type": "stream",
     "text": [
      "True\n",
      "True\n",
      "True\n",
      "False\n"
     ]
    }
   ],
   "source": [
    "#KODE \"OR\" (DISJUNGSI)\n",
    "\n",
    "#Untuk pernyataan benar atau benar\n",
    "print (jumlah_kelas_A > 25 or jumlah_kelas_B> 25)\n",
    "\n",
    "#untuk pernyataan benar atau salah\n",
    "print (jumlah_kelas_A > 25 or jumlah_kelas_B> 50)\n",
    "\n",
    "#untuk pernyataan salah atau benar\n",
    "print (jumlah_kelas_A > 50 or jumlah_kelas_B> 25)\n",
    "\n",
    "#untuk pernyataan salah atau salah\n",
    "print (jumlah_kelas_A > 80 or jumlah_kelas_B> 75)"
   ]
  },
  {
   "cell_type": "markdown",
   "id": "7943cc01",
   "metadata": {},
   "source": [
    "KODE \"OR\"\n",
    "\n",
    "Dapat disimpulkan bahwa untuk kode perintah \"or\" memiliki sifat ketika salah satu data atau kedua data bernilai benar maka outputput yang akan dikeluarkan oleh sistem berupa \"True\" namun jika kedua pernyataan yang diimput bernilai salah maka outnya akan berupa \"False\""
   ]
  },
  {
   "cell_type": "code",
   "execution_count": 56,
   "id": "f194f468",
   "metadata": {},
   "outputs": [
    {
     "data": {
      "text/plain": [
       "True"
      ]
     },
     "execution_count": 56,
     "metadata": {},
     "output_type": "execute_result"
    }
   ],
   "source": [
    "#KODE \"NOT\"\n",
    "\n",
    "not (jumlah_kelas_A < 20)\n",
    "#pernyataan jumlah_kelas_A < 20 merupakan pernyataan bernilai salah\n",
    "#karena 42 < 20 bernilai salah namun jika terdapat not diawal pernyataan \n",
    "#maka output yang akan dikeluarkan adalah kebalikan dari output yang sebenarnya"
   ]
  },
  {
   "cell_type": "markdown",
   "id": "b9f439f6",
   "metadata": {},
   "source": [
    "KODE \"NOT\"\n",
    "\n",
    "Jadi dapat disimpulkan bahwa kode not berguna untuk membalikkan nilai sebenarnya dari pernyataan yang diberikan, pada kode \"not\" pernyataan yang dimasukkan akan berupa pernyataan perbandingan."
   ]
  },
  {
   "cell_type": "markdown",
   "id": "baea71d6",
   "metadata": {},
   "source": [
    "## 5.10 OPERATOR IF DI PYTHON"
   ]
  },
  {
   "cell_type": "markdown",
   "id": "26a1ac72",
   "metadata": {},
   "source": [
    "Pada operator if pengguna akan memasukkan data, dimana data tersebut akan disesuaikan dengan syarat yang dibuat oleh user. Setelah sesuai dengan salah satu syarat data maka outpt yang akan dikeluarkan sesai dengan syarat tersebut."
   ]
  },
  {
   "cell_type": "code",
   "execution_count": 61,
   "id": "a2cb44bf",
   "metadata": {},
   "outputs": [
    {
     "name": "stdout",
     "output_type": "stream",
     "text": [
      "Masukan umur 75\n",
      "Umur tersebut termasuk kelompok manula\n",
      "Pada usia ini manusia akan rentan terkena penyakit\n"
     ]
    }
   ],
   "source": [
    "#CONTOH DATA (KELOMPOK USIA)\n",
    "umur = int(input(\"Masukan umur \"))\n",
    "if umur >= 0 and umur <= 5 :\n",
    "    print (\"Umur tersebut termasuk kedalam kelompok balita\")\n",
    "    print (\"Pada umur ini masih perlu pengawasan orang tua\")\n",
    "    \n",
    "if umur > 5 and umur <= 11 :\n",
    "    print (\"Umur tersebut termasuk kedalam kelompok kanak-kanak\")\n",
    "    print (\"Pada umur ini anak mulai mengenal pendidikan\")\n",
    "    \n",
    "if umur > 11 and umur <= 16 :\n",
    "    print (\"Umur tersebut termasuk kedalam kelompok remaja awal\")\n",
    "    print (\"Pada umur ini anak mulai mengalami masa pubertas\")\n",
    "    \n",
    "if umur > 16 and umur <= 25 :\n",
    "    print (\"Umur tersebut termasuk kedalam kelompok remaja akhir\")\n",
    "    print (\"Pada umur segini masa pertumbuhan sudah mulai berakhir\")\n",
    "    \n",
    "if umur > 25 and umur <= 35:\n",
    "    print (\"Umur tersebut termasuk kelompok dewasa awal\")\n",
    "    print (\"Pada umur segini merupakan umur ideal untuk menikah\")\n",
    "    \n",
    "if umur >  35 and umur <= 45:\n",
    "    print (\"Umur tersebut termasuk kelompok dewasa akhir\")\n",
    "    print (\"Pada umur segini sudah memulai memasuki tahapan memiliki anak\")\n",
    "    \n",
    "if umur > 45 and umur <= 55 :\n",
    "    print (\"Umur tersebut termasuk kelompok lansia awal\")\n",
    "    print (\"Umur segini sudah memiliki generasi penerus seperti cucu\")\n",
    "    \n",
    "if umur > 55 and umur <= 65:\n",
    "    print (\"Umur tersebut termasuk kelompok lansia akhir\")\n",
    "    print (\"Pada umur segini ketika melakukan aktivitas akan terasa lebih berat\")\n",
    "    \n",
    "if umur > 65 :\n",
    "    print (\"Umur tersebut termasuk kelompok manula\")\n",
    "    print (\"Pada usia ini manusia akan rentan terkena penyakit\")"
   ]
  },
  {
   "cell_type": "markdown",
   "id": "9cb08594",
   "metadata": {},
   "source": [
    "Untuk menjalankan kode if ini hal pertama yang harus dilakukan adalam membuat kode input agar data yang akan diimput dapat disesuaikan dengan syarat.\n",
    "Lalu setelah itu bisa dideklarasikan syarat-syarat dimana syarat ini akan menjadi syarat dikeluarkannya output.\n",
    "\n",
    "Seperti diatas jika dimasukkan umur 75 maka data tersebut akan sesuai dengan syarat terakhir. Setelah sesuai maka akan dikeluarkan pernyataan yang sesai dengan syarat terakhir"
   ]
  },
  {
   "cell_type": "code",
   "execution_count": 26,
   "id": "5b8c172a",
   "metadata": {},
   "outputs": [
    {
     "name": "stdout",
     "output_type": "stream",
     "text": [
      "Masukan Angka Pertama : 8\n",
      "Masukan Angka Kedua : 8\n",
      "64\n",
      "16\n",
      "False\n",
      "Maka hasil x akan lebih dari 20\n",
      "False\n",
      "False\n"
     ]
    },
    {
     "data": {
      "text/plain": [
       "False"
      ]
     },
     "execution_count": 26,
     "metadata": {},
     "output_type": "execute_result"
    }
   ],
   "source": [
    "#LATIHAN 1\n",
    "\n",
    "#input data berupa integer\n",
    "Variabel_1 = int(input(\"Masukan Angka Pertama : \"))\n",
    "Variabel_2 = int(input(\"Masukan Angka Kedua : \"))\n",
    "\n",
    "#pendeklarasian data melalui operasi matematika dan perbandingan\n",
    "x = Variabel_1 * Variabel_2\n",
    "y = Variabel_1 + Variabel_2\n",
    "z = Variabel_2 != Variabel_1\n",
    "\n",
    "#print hasil operasi matematika dan perbandingan\n",
    "print (x)\n",
    "print (y)\n",
    "print (z)\n",
    "\n",
    "#Operator If\n",
    "if Variabel_1 <= 3 and Variabel_2 <7 :\n",
    "    print (\"Maka hasil x akan kurang dari 20\")\n",
    "if Variabel_1 >= 5 and Variabel_2 >= 5 :\n",
    "    print (\"Maka hasil x akan lebih dari 20\")\n",
    "    \n",
    "#Operator logika\n",
    "print (x < 35 or y > 43)\n",
    "print (x < 35 and y > 43)\n",
    "\n",
    "#Operator logika \n",
    "not (y <= x)\n",
    "#kenapa kode not diletakkan dibawah karena jika di letakkan diatas outputnya tidak akan muncul."
   ]
  }
 ],
 "metadata": {
  "kernelspec": {
   "display_name": "Python 3 (ipykernel)",
   "language": "python",
   "name": "python3"
  },
  "language_info": {
   "codemirror_mode": {
    "name": "ipython",
    "version": 3
   },
   "file_extension": ".py",
   "mimetype": "text/x-python",
   "name": "python",
   "nbconvert_exporter": "python",
   "pygments_lexer": "ipython3",
   "version": "3.9.13"
  }
 },
 "nbformat": 4,
 "nbformat_minor": 5
}
